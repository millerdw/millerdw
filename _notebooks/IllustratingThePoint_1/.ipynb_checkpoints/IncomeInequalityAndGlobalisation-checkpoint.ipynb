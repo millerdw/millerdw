{
 "cells": [
  {
   "cell_type": "code",
   "execution_count": 3,
   "metadata": {},
   "outputs": [
    {
     "name": "stderr",
     "output_type": "stream",
     "text": [
      "Installing package into 'C:/Users/David/Documents/R/win-library/3.3'\n",
      "(as 'lib' is unspecified)\n",
      "also installing the dependency 'RJSONIO'\n",
      "\n"
     ]
    },
    {
     "name": "stdout",
     "output_type": "stream",
     "text": [
      "package 'RJSONIO' successfully unpacked and MD5 sums checked\n",
      "package 'WDI' successfully unpacked and MD5 sums checked\n",
      "\n",
      "The downloaded binary packages are in\n",
      "\tC:\\Users\\David\\AppData\\Local\\Temp\\RtmpuUBFPs\\downloaded_packages\n"
     ]
    }
   ],
   "source": [
    "install.packages('WDI')"
   ]
  },
  {
   "cell_type": "code",
   "execution_count": 4,
   "metadata": {},
   "outputs": [
    {
     "name": "stderr",
     "output_type": "stream",
     "text": [
      "Loading required package: RJSONIO\n"
     ]
    }
   ],
   "source": [
    "library('WDI')\n",
    "library('reshape2')\n",
    "library('ggplot2')"
   ]
  },
  {
   "cell_type": "code",
   "execution_count": 161,
   "metadata": {},
   "outputs": [
    {
     "data": {
      "text/html": [
       "<table>\n",
       "<thead><tr><th scope=col>indicator</th><th scope=col>name</th></tr></thead>\n",
       "<tbody>\n",
       "</tbody>\n",
       "</table>\n"
      ],
      "text/latex": [
       "\\begin{tabular}{ll}\n",
       " indicator & name\\\\\n",
       "\\hline\n",
       "\\end{tabular}\n"
      ],
      "text/markdown": [],
      "text/plain": [
       "     indicator name"
      ]
     },
     "metadata": {},
     "output_type": "display_data"
    }
   ],
   "source": [
    "WDIsearch('gsdp')"
   ]
  },
  {
   "cell_type": "code",
   "execution_count": 177,
   "metadata": {},
   "outputs": [
    {
     "data": {
      "text/html": [
       "<ol class=list-inline>\n",
       "\t<li>'iso'</li>\n",
       "\t<li>'country'</li>\n",
       "\t<li>'year'</li>\n",
       "\t<li>'IncomeShare1stQuintile'</li>\n",
       "\t<li>'IncomeShare2ndQuintile'</li>\n",
       "\t<li>'IncomeShare3rdQuintile'</li>\n",
       "\t<li>'IncomeShare4thQuintile'</li>\n",
       "\t<li>'IncomeShare5thQuintile'</li>\n",
       "\t<li>'CurrentAccountBalancePctGDP'</li>\n",
       "\t<li>'TradePctGDP'</li>\n",
       "\t<li>'ImportsPctGDP'</li>\n",
       "\t<li>'ExportsPctGDP'</li>\n",
       "\t<li>'ManufacturesPctMerchImports'</li>\n",
       "\t<li>'ManufacturesPctMerchExports'</li>\n",
       "\t<li>'TechPctManufacturesExports'</li>\n",
       "\t<li>'PctMerchImportsFromLowMiddle'</li>\n",
       "\t<li>'PctMerchExportsToHigh'</li>\n",
       "\t<li>'GoodsImportsUSD'</li>\n",
       "\t<li>'ServiceImportsUSD'</li>\n",
       "\t<li>'NetGoodsTradesUSD'</li>\n",
       "\t<li>'NetTradesUSD'</li>\n",
       "\t<li>'CurrentAccountDeficitFlag'</li>\n",
       "\t<li>'NetTradesPctGDP'</li>\n",
       "\t<li>'GoodsExportsUSD'</li>\n",
       "\t<li>'NetServiceTradesUSD'</li>\n",
       "\t<li>'ServiceExportsUSD'</li>\n",
       "\t<li>'ImportsUSD'</li>\n",
       "\t<li>'GDPUSD'</li>\n",
       "\t<li>'GoodsImportsPctGDP'</li>\n",
       "\t<li>'GoodsExportsPctGDP'</li>\n",
       "\t<li>'ServiceImportsPctGDP'</li>\n",
       "\t<li>'ServiceExportsPctGDP'</li>\n",
       "\t<li>'NetGoodsTradesPctGDP'</li>\n",
       "\t<li>'NetServiceTradesPctGDP'</li>\n",
       "</ol>\n"
      ],
      "text/latex": [
       "\\begin{enumerate*}\n",
       "\\item 'iso'\n",
       "\\item 'country'\n",
       "\\item 'year'\n",
       "\\item 'IncomeShare1stQuintile'\n",
       "\\item 'IncomeShare2ndQuintile'\n",
       "\\item 'IncomeShare3rdQuintile'\n",
       "\\item 'IncomeShare4thQuintile'\n",
       "\\item 'IncomeShare5thQuintile'\n",
       "\\item 'CurrentAccountBalancePctGDP'\n",
       "\\item 'TradePctGDP'\n",
       "\\item 'ImportsPctGDP'\n",
       "\\item 'ExportsPctGDP'\n",
       "\\item 'ManufacturesPctMerchImports'\n",
       "\\item 'ManufacturesPctMerchExports'\n",
       "\\item 'TechPctManufacturesExports'\n",
       "\\item 'PctMerchImportsFromLowMiddle'\n",
       "\\item 'PctMerchExportsToHigh'\n",
       "\\item 'GoodsImportsUSD'\n",
       "\\item 'ServiceImportsUSD'\n",
       "\\item 'NetGoodsTradesUSD'\n",
       "\\item 'NetTradesUSD'\n",
       "\\item 'CurrentAccountDeficitFlag'\n",
       "\\item 'NetTradesPctGDP'\n",
       "\\item 'GoodsExportsUSD'\n",
       "\\item 'NetServiceTradesUSD'\n",
       "\\item 'ServiceExportsUSD'\n",
       "\\item 'ImportsUSD'\n",
       "\\item 'GDPUSD'\n",
       "\\item 'GoodsImportsPctGDP'\n",
       "\\item 'GoodsExportsPctGDP'\n",
       "\\item 'ServiceImportsPctGDP'\n",
       "\\item 'ServiceExportsPctGDP'\n",
       "\\item 'NetGoodsTradesPctGDP'\n",
       "\\item 'NetServiceTradesPctGDP'\n",
       "\\end{enumerate*}\n"
      ],
      "text/markdown": [
       "1. 'iso'\n",
       "2. 'country'\n",
       "3. 'year'\n",
       "4. 'IncomeShare1stQuintile'\n",
       "5. 'IncomeShare2ndQuintile'\n",
       "6. 'IncomeShare3rdQuintile'\n",
       "7. 'IncomeShare4thQuintile'\n",
       "8. 'IncomeShare5thQuintile'\n",
       "9. 'CurrentAccountBalancePctGDP'\n",
       "10. 'TradePctGDP'\n",
       "11. 'ImportsPctGDP'\n",
       "12. 'ExportsPctGDP'\n",
       "13. 'ManufacturesPctMerchImports'\n",
       "14. 'ManufacturesPctMerchExports'\n",
       "15. 'TechPctManufacturesExports'\n",
       "16. 'PctMerchImportsFromLowMiddle'\n",
       "17. 'PctMerchExportsToHigh'\n",
       "18. 'GoodsImportsUSD'\n",
       "19. 'ServiceImportsUSD'\n",
       "20. 'NetGoodsTradesUSD'\n",
       "21. 'NetTradesUSD'\n",
       "22. 'CurrentAccountDeficitFlag'\n",
       "23. 'NetTradesPctGDP'\n",
       "24. 'GoodsExportsUSD'\n",
       "25. 'NetServiceTradesUSD'\n",
       "26. 'ServiceExportsUSD'\n",
       "27. 'ImportsUSD'\n",
       "28. 'GDPUSD'\n",
       "29. 'GoodsImportsPctGDP'\n",
       "30. 'GoodsExportsPctGDP'\n",
       "31. 'ServiceImportsPctGDP'\n",
       "32. 'ServiceExportsPctGDP'\n",
       "33. 'NetGoodsTradesPctGDP'\n",
       "34. 'NetServiceTradesPctGDP'\n",
       "\n",
       "\n"
      ],
      "text/plain": [
       " [1] \"iso\"                          \"country\"                     \n",
       " [3] \"year\"                         \"IncomeShare1stQuintile\"      \n",
       " [5] \"IncomeShare2ndQuintile\"       \"IncomeShare3rdQuintile\"      \n",
       " [7] \"IncomeShare4thQuintile\"       \"IncomeShare5thQuintile\"      \n",
       " [9] \"CurrentAccountBalancePctGDP\"  \"TradePctGDP\"                 \n",
       "[11] \"ImportsPctGDP\"                \"ExportsPctGDP\"               \n",
       "[13] \"ManufacturesPctMerchImports\"  \"ManufacturesPctMerchExports\" \n",
       "[15] \"TechPctManufacturesExports\"   \"PctMerchImportsFromLowMiddle\"\n",
       "[17] \"PctMerchExportsToHigh\"        \"GoodsImportsUSD\"             \n",
       "[19] \"ServiceImportsUSD\"            \"NetGoodsTradesUSD\"           \n",
       "[21] \"NetTradesUSD\"                 \"CurrentAccountDeficitFlag\"   \n",
       "[23] \"NetTradesPctGDP\"              \"GoodsExportsUSD\"             \n",
       "[25] \"NetServiceTradesUSD\"          \"ServiceExportsUSD\"           \n",
       "[27] \"ImportsUSD\"                   \"GDPUSD\"                      \n",
       "[29] \"GoodsImportsPctGDP\"           \"GoodsExportsPctGDP\"          \n",
       "[31] \"ServiceImportsPctGDP\"         \"ServiceExportsPctGDP\"        \n",
       "[33] \"NetGoodsTradesPctGDP\"         \"NetServiceTradesPctGDP\"      "
      ]
     },
     "metadata": {},
     "output_type": "display_data"
    }
   ],
   "source": [
    "dat = WDI(indicator=c('SI.DST.FRST.20',\n",
    "                      'SI.DST.02ND.20',\n",
    "                      'SI.DST.03RD.20',\n",
    "                      'SI.DST.04TH.20',\n",
    "                      'SI.DST.05TH.20',\n",
    "                      'BN.CAB.XOKA.GD.ZS',\n",
    "                      'NE.TRD.GNFS.ZS',\n",
    "                      'NE.IMP.GNFS.ZS',\n",
    "                      'NE.EXP.GNFS.ZS',\n",
    "                      'TM.VAL.MANF.ZS.UN',\n",
    "                      'TX.VAL.MANF.ZS.UN',  \n",
    "                      'TX.VAL.TECH.MF.ZS',\n",
    "                      'TM.VAL.MRCH.OR.ZS',\n",
    "                      'TX.VAL.MRCH.HI.ZS',\n",
    "                      'BM.GSR.MRCH.CD',\n",
    "                      'BM.GSR.NFSV.CD',\n",
    "                      'BN.GSR.MRCH.CD',\n",
    "                      'BN.GSR.GNFS.CD'\n",
    "                     ), \n",
    "          #country=c('MX','TH','CN','TW','DE','FR','US','GB'), \n",
    "          start=1960, end=2018)\n",
    "\n",
    "#'SI.POV.GINI'          GINI coefficient\n",
    "#'SI.DST.FRST.20'       Income Share of bottom quintile\n",
    "#'SI.DST.05TH.20'       Income Share of top quintile\n",
    "\n",
    "#'NE.TRD.GNFS.ZS'       Trade % GDP\n",
    "#'NE.IMP.GNFS.ZS'       Imports of goods and services (% of GDP)\n",
    "#'NE.EXP.GNFS.ZS'       Exports of goods and services (% of GDP)\n",
    "\n",
    "#'BN.CAB.XOKA.GD.ZS'    Current account balance (% of GDP)\n",
    "\n",
    "#'BG.GSR.NFSV.GD.ZS'    Trade in services (% of GDP)\n",
    "#'TG.VAL.TOTL.GD.ZS'    Merchandise trade (% of GDP)\n",
    "\n",
    "#'BX.GSR.MRCH.ZS'       Merchandise Exports (BOP): Percentage Of GDP (%)\n",
    "#'BM.GSR.MRCH.ZS'       Merchandise Imports (BOP): Percentage Of GDP (%)\n",
    "\n",
    "#'TM.VAL.MANF.ZS.UN'    Manufactures imports (% of merchandise imports)\n",
    "#'TX.VAL.MANF.ZS.UN'    Manufactures exports (% of merchandise exports)\n",
    "\n",
    "#'TX.VAL.TECH.MF.ZS'    High-technology exports (% of manufactured exports)\n",
    "\n",
    "#'TM.VAL.MRCH.OR.ZS'    Merchandise imports from developing economies outside region (% of total merchandise imports)\n",
    "#'TX.VAL.MRCH.HI.ZS'    Merchandise exports to high-income economies (% of total merchandise exports)\n",
    "\n",
    "#'BM.GSR.MRCH.CD'       Goods imports (BoP, current US$)\n",
    "#'BM.GSR.NFSV.CD'       Service imports (BoP, current US$)\n",
    "#'BN.GSR.MRCH.CD'       Net trade in goods (BoP, current US$)\n",
    "#'BN.GSR.GNFS.CD'       Net trade in goods and services (BoP, current US$)\n",
    "\n",
    "colnames(dat) <- c('iso','country','year',\n",
    "                   'IncomeShare1stQuintile',\n",
    "                   'IncomeShare2ndQuintile',\n",
    "                   'IncomeShare3rdQuintile',\n",
    "                   'IncomeShare4thQuintile',\n",
    "                   'IncomeShare5thQuintile',\n",
    "                   'CurrentAccountBalancePctGDP',\n",
    "                   'TradePctGDP',\n",
    "                   'ImportsPctGDP',\n",
    "                   'ExportsPctGDP',\n",
    "                   'ManufacturesPctMerchImports',\n",
    "                   'ManufacturesPctMerchExports',\n",
    "                   'TechPctManufacturesExports',\n",
    "                   'PctMerchImportsFromLowMiddle',\n",
    "                   'PctMerchExportsToHigh',\n",
    "                   'GoodsImportsUSD',\n",
    "                   'ServiceImportsUSD',\n",
    "                   'NetGoodsTradesUSD',\n",
    "                   'NetTradesUSD'\n",
    "                  )\n",
    "\n",
    "dat$CurrentAccountDeficitFlag <- ifelse(dat$CurrentAccountBalancePctGDP<0,'Deficit','Surplus')\n",
    "dat$NetTradesPctGDP <- dat$ExportsPctGDP-dat$ImportsPctGDP\n",
    "dat$GoodsExportsUSD <- dat$NetGoodsTradesUSD+dat$GoodsImportsUSD\n",
    "dat$NetServiceTradesUSD <- dat$NetTradesUSD-dat$NetGoodsTradesUSD\n",
    "dat$ServiceExportsUSD <- dat$NetServiceTradesUSD+dat$ServiceImportsUSD\n",
    "dat$ImportsUSD <- dat$GoodsImportsUSD+dat$ServiceImportsUSD\n",
    "\n",
    "dat$GDPUSD <- dat$ImportsUSD/dat$ImportsPctGDP\n",
    "dat$GoodsImportsPctGDP <- dat$GoodsImportsUSD/dat$GDPUSD\n",
    "dat$GoodsExportsPctGDP <- dat$GoodsExportsUSD/dat$GDPUSD\n",
    "dat$ServiceImportsPctGDP <- dat$ServiceImportsUSD/dat$GDPUSD\n",
    "dat$ServiceExportsPctGDP <- dat$ServiceExportsUSD/dat$GDPUSD\n",
    "dat$NetGoodsTradesPctGDP <- dat$NetGoodsTradesUSD/dat$GDPUSD\n",
    "dat$NetServiceTradesPctGDP <- dat$NetServiceTradesUSD/dat$GDPUSD\n",
    "\n",
    "#dat$ManufacturesExportsPctGDP <- dat$ManufacturesPctMerchExports*dat$MerchandiseExportsPctGDP\n",
    "#dat$ManufacturesImportsPctGDP <- dat$ManufacturesPctMerchImports*dat$MerchandiseImportsPctGDP\n",
    "colnames(dat)"
   ]
  },
  {
   "cell_type": "code",
   "execution_count": 178,
   "metadata": {},
   "outputs": [],
   "source": [
    "key <- c('year','country')\n",
    "measures <- c('TradePctGDP'#,#'ImportsPctGDP','ExportsPctGDP','CurrentAccountBalancePctGDP',\n",
    "               #'ManufacturesPctMerchImports','ManufacturesPctMerchExports','TechPctManufacturesExports',\n",
    "               #'PctMerchImportsFromLowMiddle','PctMerchExportsToHigh',\n",
    "               #'GoodsImportsPctGDP','GoodsExportsPctGDP','ServiceImportsPctGDP','ServiceExportsPctGDP'\n",
    "               #'NetGoodsTradesPctGDP','NetServiceTradesPctGDP'\n",
    "             )\n",
    "incomeShareQuintiles <- c('IncomeShare1stQuintile','IncomeShare2ndQuintile','IncomeShare3rdQuintile','IncomeShare4thQuintile','IncomeShare5thQuintile')\n",
    "\n",
    "moltenData <- melt(data=dat[,c(key,\n",
    "                               measures,\n",
    "                               incomeShareQuintiles)], \n",
    "                   id.vars=c(key,measures), \n",
    "                   #measure.vars=c('IncomeShare1stQuintile','IncomeShare2ndQuintile','IncomeShare3rdQuintile','IncomeShare4thQuintile','IncomeShare5thQuintile'),\n",
    "                   variable.name='IncomeShareQuintile',\n",
    "                   value.name='IncomeShare')\n"
   ]
  },
  {
   "cell_type": "code",
   "execution_count": 179,
   "metadata": {},
   "outputs": [
    {
     "data": {},
     "metadata": {},
     "output_type": "display_data"
    },
    {
     "data": {
      "image/png": "[encoded data removed]",
      "text/plain": [
       "plot without title"
      ]
     },
     "metadata": {},
     "output_type": "display_data"
    }
   ],
   "source": [
    "options(repr.plot.width=10, repr.plot.height=3)\n",
    "\n",
    "countries<-c('France','Germany','Mexico','Thailand','United States','United Kingdom')\n",
    "ggplot(data=moltenData[!is.na(moltenData$TradePctGDP) & (moltenData$country %in% countries) & !is.na(moltenData$IncomeShare) & moltenData$IncomeShare!=0,],\n",
    "       aes(x=TradePctGDP, color=country, group=country)) +\n",
    "    geom_point(aes(y=IncomeShare)) +\n",
    "    facet_wrap( ~ country)#, scales='fixed')"
   ]
  },
  {
   "cell_type": "code",
   "execution_count": 180,
   "metadata": {},
   "outputs": [
    {
     "data": {},
     "metadata": {},
     "output_type": "display_data"
    },
    {
     "data": {
      "image/png": "[encoded data removed]",
      "text/plain": [
       "plot without title"
      ]
     },
     "metadata": {},
     "output_type": "display_data"
    }
   ],
   "source": [
    "options(repr.plot.width=10, repr.plot.height=3)\n",
    "\n",
    "moreMoltenData <- melt(moltenData[!is.na(moltenData$TradePctGDP) & (moltenData$country %in% countries) & !is.na(moltenData$IncomeShare) & moltenData$IncomeShare!=0,],\n",
    "                       id.vars=c('year','country','IncomeShareQuintile'),\n",
    "                       variable.name='EconomicMeasure',\n",
    "                       value.name='Percent')\n",
    "ggplot(data=moreMoltenData,\n",
    "       aes(x=year, color=country, group=IncomeShareQuintile)) +\n",
    "    geom_line(aes(y=Percent)) +\n",
    "    facet_grid(EconomicMeasure~country, scales='free_y')"
   ]
  },
  {
   "cell_type": "code",
   "execution_count": 181,
   "metadata": {},
   "outputs": [
    {
     "data": {
      "text/html": [
       "<table>\n",
       "<thead><tr><th scope=col>country</th><th scope=col>pTradeIncome1st</th><th scope=col>pTradeIncome2nd</th><th scope=col>pTradeIncome3rd</th><th scope=col>pTradeIncome4th</th><th scope=col>pTradeIncome5th</th><th scope=col>MeanCurrentAccountDeficit</th><th scope=col>MeanGoodsTradeSurplusPctGDP</th><th scope=col>MeanServiceTradeSurplusPctGDP</th></tr></thead>\n",
       "<tbody>\n",
       "\t<tr><td>France        </td><td>-0.2777360    </td><td>-0.2518582    </td><td>-0.3381273    </td><td>-0.5925084    </td><td> 0.4231599    </td><td> 0.06612691   </td><td>-0.7142154    </td><td> 1.09292451   </td></tr>\n",
       "\t<tr><td>Germany       </td><td>-0.6862127    </td><td>-0.7233661    </td><td>-0.6400385    </td><td>-0.6314254    </td><td> 0.8018700    </td><td> 2.32627884   </td><td> 4.5341822    </td><td>-1.43394542   </td></tr>\n",
       "\t<tr><td>Mexico        </td><td> 0.7568905    </td><td> 0.8248873    </td><td> 0.6477896    </td><td>-0.1550360    </td><td>-0.6480266    </td><td>-1.90993721   </td><td>-0.4897317    </td><td>-0.06398825   </td></tr>\n",
       "\t<tr><td>Thailand      </td><td> 0.6993438    </td><td> 0.7656708    </td><td> 0.7892026    </td><td> 0.8071958    </td><td>-0.7972103    </td><td>-0.52082065   </td><td> 0.9728961    </td><td>-0.42662488   </td></tr>\n",
       "\t<tr><td>United Kingdom</td><td> 0.8865872    </td><td> 0.5693476    </td><td> 0.6509120    </td><td> 0.6667627    </td><td>-0.7904891    </td><td>-1.77253666   </td><td>-3.1895327    </td><td> 2.01967033   </td></tr>\n",
       "\t<tr><td>United States </td><td>-0.7111867    </td><td>-0.7791075    </td><td>-0.8282018    </td><td>-0.6905163    </td><td> 0.7929420    </td><td>-2.01599620   </td><td>-2.7578299    </td><td> 0.56562332   </td></tr>\n",
       "</tbody>\n",
       "</table>\n"
      ],
      "text/latex": [
       "\\begin{tabular}{r|lllllllll}\n",
       " country & pTradeIncome1st & pTradeIncome2nd & pTradeIncome3rd & pTradeIncome4th & pTradeIncome5th & MeanCurrentAccountDeficit & MeanGoodsTradeSurplusPctGDP & MeanServiceTradeSurplusPctGDP\\\\\n",
       "\\hline\n",
       "\t France         & -0.2777360     & -0.2518582     & -0.3381273     & -0.5925084     &  0.4231599     &  0.06612691    & -0.7142154     &  1.09292451   \\\\\n",
       "\t Germany        & -0.6862127     & -0.7233661     & -0.6400385     & -0.6314254     &  0.8018700     &  2.32627884    &  4.5341822     & -1.43394542   \\\\\n",
       "\t Mexico         &  0.7568905     &  0.8248873     &  0.6477896     & -0.1550360     & -0.6480266     & -1.90993721    & -0.4897317     & -0.06398825   \\\\\n",
       "\t Thailand       &  0.6993438     &  0.7656708     &  0.7892026     &  0.8071958     & -0.7972103     & -0.52082065    &  0.9728961     & -0.42662488   \\\\\n",
       "\t United Kingdom &  0.8865872     &  0.5693476     &  0.6509120     &  0.6667627     & -0.7904891     & -1.77253666    & -3.1895327     &  2.01967033   \\\\\n",
       "\t United States  & -0.7111867     & -0.7791075     & -0.8282018     & -0.6905163     &  0.7929420     & -2.01599620    & -2.7578299     &  0.56562332   \\\\\n",
       "\\end{tabular}\n"
      ],
      "text/plain": [
       "  country        pTradeIncome1st pTradeIncome2nd pTradeIncome3rd\n",
       "1 France         -0.2777360      -0.2518582      -0.3381273     \n",
       "2 Germany        -0.6862127      -0.7233661      -0.6400385     \n",
       "3 Mexico          0.7568905       0.8248873       0.6477896     \n",
       "4 Thailand        0.6993438       0.7656708       0.7892026     \n",
       "5 United Kingdom  0.8865872       0.5693476       0.6509120     \n",
       "6 United States  -0.7111867      -0.7791075      -0.8282018     \n",
       "  pTradeIncome4th pTradeIncome5th MeanCurrentAccountDeficit\n",
       "1 -0.5925084       0.4231599       0.06612691              \n",
       "2 -0.6314254       0.8018700       2.32627884              \n",
       "3 -0.1550360      -0.6480266      -1.90993721              \n",
       "4  0.8071958      -0.7972103      -0.52082065              \n",
       "5  0.6667627      -0.7904891      -1.77253666              \n",
       "6 -0.6905163       0.7929420      -2.01599620              \n",
       "  MeanGoodsTradeSurplusPctGDP MeanServiceTradeSurplusPctGDP\n",
       "1 -0.7142154                   1.09292451                  \n",
       "2  4.5341822                  -1.43394542                  \n",
       "3 -0.4897317                  -0.06398825                  \n",
       "4  0.9728961                  -0.42662488                  \n",
       "5 -3.1895327                   2.01967033                  \n",
       "6 -2.7578299                   0.56562332                  "
      ]
     },
     "metadata": {},
     "output_type": "display_data"
    }
   ],
   "source": [
    "#dat[,c('country','year','TradePctGDP')]\n",
    "\n",
    "library(dplyr)\n",
    "\n",
    "dat[dat$country %in% countries,] %>%\n",
    "  group_by(country) %>%\n",
    "  summarize(\n",
    "           pTradeIncome1st=cor(TradePctGDP,IncomeShare1stQuintile, use=\"complete.obs\"),\n",
    "           pTradeIncome2nd=cor(TradePctGDP,IncomeShare2ndQuintile, use=\"complete.obs\"),\n",
    "           pTradeIncome3rd=cor(TradePctGDP,IncomeShare3rdQuintile, use=\"complete.obs\"),\n",
    "           pTradeIncome4th=cor(TradePctGDP,IncomeShare4thQuintile, use=\"complete.obs\"),\n",
    "           pTradeIncome5th=cor(TradePctGDP,IncomeShare5thQuintile, use=\"complete.obs\"),\n",
    "           #pCADIncome1st=cor(CurrentAccountBalancePctGDP,IncomeShare1stQuintile, use=\"complete.obs\"),\n",
    "           #pCADIncome2nd=cor(CurrentAccountBalancePctGDP,IncomeShare2ndQuintile, use=\"complete.obs\"),\n",
    "           #pCADIncome3rd=cor(CurrentAccountBalancePctGDP,IncomeShare3rdQuintile, use=\"complete.obs\"),\n",
    "           #pCADIncome4th=cor(CurrentAccountBalancePctGDP,IncomeShare4thQuintile, use=\"complete.obs\"),\n",
    "           #pCADIncome5th=cor(CurrentAccountBalancePctGDP,IncomeShare5thQuintile, use=\"complete.obs\"),\n",
    "           MeanCurrentAccountDeficit=mean(CurrentAccountBalancePctGDP, na.rm=T),\n",
    "           MeanGoodsTradeSurplusPctGDP=mean(NetGoodsTradesPctGDP, na.rm=T),\n",
    "           MeanServiceTradeSurplusPctGDP=mean(NetServiceTradesPctGDP, na.rm=T))\n",
    "\n",
    "\n"
   ]
  }
 ],
 "metadata": {
  "kernelspec": {
   "display_name": "R",
   "language": "R",
   "name": "ir"
  },
  "language_info": {
   "codemirror_mode": "r",
   "file_extension": ".r",
   "mimetype": "text/x-r-source",
   "name": "R",
   "pygments_lexer": "r",
   "version": "3.3.2"
  }
 },
 "nbformat": 4,
 "nbformat_minor": 2
}

{
 "cells": [
  {
   "cell_type": "code",
   "execution_count": 3,
   "metadata": {},
   "outputs": [],
   "source": [
    "#install.packages('comtradr', repos='http://cran.rstudio.com/')\n",
    "library('comtradr')\n",
    "library('magrittr')"
   ]
  },
  {
   "cell_type": "code",
   "execution_count": 4,
   "metadata": {},
   "outputs": [],
   "source": [
    "ukTrading <- ct_search(reporters='United Kingdom',\n",
    "                       partners='All',\n",
    "                       trade_direction='all',\n",
    "                       start_date=2013,\n",
    "                       end_date=2017)\n"
   ]
  },
  {
   "cell_type": "code",
   "execution_count": 5,
   "metadata": {},
   "outputs": [
    {
     "data": {
      "text/html": [
       "<ol class=list-inline>\n",
       "\t<li>'classification'</li>\n",
       "\t<li>'year'</li>\n",
       "\t<li>'period'</li>\n",
       "\t<li>'period_desc'</li>\n",
       "\t<li>'aggregate_level'</li>\n",
       "\t<li>'is_leaf_code'</li>\n",
       "\t<li>'trade_flow_code'</li>\n",
       "\t<li>'trade_flow'</li>\n",
       "\t<li>'reporter_code'</li>\n",
       "\t<li>'reporter'</li>\n",
       "\t<li>'reporter_iso'</li>\n",
       "\t<li>'partner_code'</li>\n",
       "\t<li>'partner'</li>\n",
       "\t<li>'partner_iso'</li>\n",
       "\t<li>'second_partner_code'</li>\n",
       "\t<li>'second_partner'</li>\n",
       "\t<li>'second_partner_iso'</li>\n",
       "\t<li>'customs_proc_code'</li>\n",
       "\t<li>'customs'</li>\n",
       "\t<li>'mode_of_transport_code'</li>\n",
       "\t<li>'mode_of_transport'</li>\n",
       "\t<li>'commodity_code'</li>\n",
       "\t<li>'commodity'</li>\n",
       "\t<li>'qty_unit_code'</li>\n",
       "\t<li>'qty_unit'</li>\n",
       "\t<li>'alt_qty_unit_code'</li>\n",
       "\t<li>'alt_qty_unit'</li>\n",
       "\t<li>'qty'</li>\n",
       "\t<li>'alt_qty'</li>\n",
       "\t<li>'netweight_kg'</li>\n",
       "\t<li>'gross_weight_kg'</li>\n",
       "\t<li>'trade_value_usd'</li>\n",
       "\t<li>'cif_trade_value_usd'</li>\n",
       "\t<li>'fob_trade_value_usd'</li>\n",
       "\t<li>'flag'</li>\n",
       "</ol>\n"
      ],
      "text/latex": [
       "\\begin{enumerate*}\n",
       "\\item 'classification'\n",
       "\\item 'year'\n",
       "\\item 'period'\n",
       "\\item 'period\\_desc'\n",
       "\\item 'aggregate\\_level'\n",
       "\\item 'is\\_leaf\\_code'\n",
       "\\item 'trade\\_flow\\_code'\n",
       "\\item 'trade\\_flow'\n",
       "\\item 'reporter\\_code'\n",
       "\\item 'reporter'\n",
       "\\item 'reporter\\_iso'\n",
       "\\item 'partner\\_code'\n",
       "\\item 'partner'\n",
       "\\item 'partner\\_iso'\n",
       "\\item 'second\\_partner\\_code'\n",
       "\\item 'second\\_partner'\n",
       "\\item 'second\\_partner\\_iso'\n",
       "\\item 'customs\\_proc\\_code'\n",
       "\\item 'customs'\n",
       "\\item 'mode\\_of\\_transport\\_code'\n",
       "\\item 'mode\\_of\\_transport'\n",
       "\\item 'commodity\\_code'\n",
       "\\item 'commodity'\n",
       "\\item 'qty\\_unit\\_code'\n",
       "\\item 'qty\\_unit'\n",
       "\\item 'alt\\_qty\\_unit\\_code'\n",
       "\\item 'alt\\_qty\\_unit'\n",
       "\\item 'qty'\n",
       "\\item 'alt\\_qty'\n",
       "\\item 'netweight\\_kg'\n",
       "\\item 'gross\\_weight\\_kg'\n",
       "\\item 'trade\\_value\\_usd'\n",
       "\\item 'cif\\_trade\\_value\\_usd'\n",
       "\\item 'fob\\_trade\\_value\\_usd'\n",
       "\\item 'flag'\n",
       "\\end{enumerate*}\n"
      ],
      "text/markdown": [
       "1. 'classification'\n",
       "2. 'year'\n",
       "3. 'period'\n",
       "4. 'period_desc'\n",
       "5. 'aggregate_level'\n",
       "6. 'is_leaf_code'\n",
       "7. 'trade_flow_code'\n",
       "8. 'trade_flow'\n",
       "9. 'reporter_code'\n",
       "10. 'reporter'\n",
       "11. 'reporter_iso'\n",
       "12. 'partner_code'\n",
       "13. 'partner'\n",
       "14. 'partner_iso'\n",
       "15. 'second_partner_code'\n",
       "16. 'second_partner'\n",
       "17. 'second_partner_iso'\n",
       "18. 'customs_proc_code'\n",
       "19. 'customs'\n",
       "20. 'mode_of_transport_code'\n",
       "21. 'mode_of_transport'\n",
       "22. 'commodity_code'\n",
       "23. 'commodity'\n",
       "24. 'qty_unit_code'\n",
       "25. 'qty_unit'\n",
       "26. 'alt_qty_unit_code'\n",
       "27. 'alt_qty_unit'\n",
       "28. 'qty'\n",
       "29. 'alt_qty'\n",
       "30. 'netweight_kg'\n",
       "31. 'gross_weight_kg'\n",
       "32. 'trade_value_usd'\n",
       "33. 'cif_trade_value_usd'\n",
       "34. 'fob_trade_value_usd'\n",
       "35. 'flag'\n",
       "\n",
       "\n"
      ],
      "text/plain": [
       " [1] \"classification\"         \"year\"                   \"period\"                \n",
       " [4] \"period_desc\"            \"aggregate_level\"        \"is_leaf_code\"          \n",
       " [7] \"trade_flow_code\"        \"trade_flow\"             \"reporter_code\"         \n",
       "[10] \"reporter\"               \"reporter_iso\"           \"partner_code\"          \n",
       "[13] \"partner\"                \"partner_iso\"            \"second_partner_code\"   \n",
       "[16] \"second_partner\"         \"second_partner_iso\"     \"customs_proc_code\"     \n",
       "[19] \"customs\"                \"mode_of_transport_code\" \"mode_of_transport\"     \n",
       "[22] \"commodity_code\"         \"commodity\"              \"qty_unit_code\"         \n",
       "[25] \"qty_unit\"               \"alt_qty_unit_code\"      \"alt_qty_unit\"          \n",
       "[28] \"qty\"                    \"alt_qty\"                \"netweight_kg\"          \n",
       "[31] \"gross_weight_kg\"        \"trade_value_usd\"        \"cif_trade_value_usd\"   \n",
       "[34] \"fob_trade_value_usd\"    \"flag\"                  "
      ]
     },
     "metadata": {},
     "output_type": "display_data"
    },
    {
     "data": {
      "text/html": [
       "<table>\n",
       "<thead><tr><th scope=col>classification</th><th scope=col>year</th><th scope=col>reporter</th><th scope=col>reporter_iso</th><th scope=col>partner</th><th scope=col>partner_iso</th><th scope=col>trade_flow</th><th scope=col>commodity</th><th scope=col>qty_unit</th><th scope=col>qty</th><th scope=col>trade_value_usd</th></tr></thead>\n",
       "<tbody>\n",
       "\t<tr><td>H4             </td><td>2013           </td><td>United Kingdom </td><td>GBR            </td><td>World          </td><td>WLD            </td><td>Import         </td><td>All Commodities</td><td>No Quantity    </td><td>NA             </td><td>657222527853   </td></tr>\n",
       "\t<tr><td>H4             </td><td>2013           </td><td>United Kingdom </td><td>GBR            </td><td>World          </td><td>WLD            </td><td>Export         </td><td>All Commodities</td><td>No Quantity    </td><td>NA             </td><td>548041853304   </td></tr>\n",
       "\t<tr><td>H4             </td><td>2013           </td><td>United Kingdom </td><td>GBR            </td><td>World          </td><td>WLD            </td><td>Re-Export      </td><td>All Commodities</td><td>No Quantity    </td><td>NA             </td><td>  6539885234   </td></tr>\n",
       "\t<tr><td>H4             </td><td>2013           </td><td>United Kingdom </td><td>GBR            </td><td>World          </td><td>WLD            </td><td>Re-Import      </td><td>All Commodities</td><td>No Quantity    </td><td>NA             </td><td>  5492572679   </td></tr>\n",
       "\t<tr><td>H4             </td><td>2014           </td><td>United Kingdom </td><td>GBR            </td><td>World          </td><td>WLD            </td><td>Import         </td><td>All Commodities</td><td>No Quantity    </td><td>NA             </td><td>694344323261   </td></tr>\n",
       "\t<tr><td>H4             </td><td>2014           </td><td>United Kingdom </td><td>GBR            </td><td>World          </td><td>WLD            </td><td>Export         </td><td>All Commodities</td><td>No Quantity    </td><td>NA             </td><td>511145442935   </td></tr>\n",
       "\t<tr><td>H4             </td><td>2014           </td><td>United Kingdom </td><td>GBR            </td><td>World          </td><td>WLD            </td><td>Re-Export      </td><td>All Commodities</td><td>No Quantity    </td><td>NA             </td><td>  9271608760   </td></tr>\n",
       "\t<tr><td>H4             </td><td>2014           </td><td>United Kingdom </td><td>GBR            </td><td>World          </td><td>WLD            </td><td>Re-Import      </td><td>All Commodities</td><td>No Quantity    </td><td>NA             </td><td>  8997118739   </td></tr>\n",
       "\t<tr><td>H5             </td><td>2017           </td><td>United Kingdom </td><td>GBR            </td><td>World          </td><td>WLD            </td><td>Import         </td><td>All Commodities</td><td>No Quantity    </td><td> 0             </td><td>641332435861   </td></tr>\n",
       "\t<tr><td>H5             </td><td>2017           </td><td>United Kingdom </td><td>GBR            </td><td>World          </td><td>WLD            </td><td>Export         </td><td>All Commodities</td><td>No Quantity    </td><td> 0             </td><td>442065707223   </td></tr>\n",
       "\t<tr><td>H5             </td><td>2017           </td><td>United Kingdom </td><td>GBR            </td><td>World          </td><td>WLD            </td><td>Re-Import      </td><td>All Commodities</td><td>No Quantity    </td><td> 0             </td><td>  4496972364   </td></tr>\n",
       "\t<tr><td>H4             </td><td>2015           </td><td>United Kingdom </td><td>GBR            </td><td>World          </td><td>WLD            </td><td>Import         </td><td>All Commodities</td><td>No Quantity    </td><td>NA             </td><td>630251057548   </td></tr>\n",
       "\t<tr><td>H4             </td><td>2015           </td><td>United Kingdom </td><td>GBR            </td><td>World          </td><td>WLD            </td><td>Export         </td><td>All Commodities</td><td>No Quantity    </td><td>NA             </td><td>466295682754   </td></tr>\n",
       "\t<tr><td>H4             </td><td>2015           </td><td>United Kingdom </td><td>GBR            </td><td>World          </td><td>WLD            </td><td>Re-Import      </td><td>All Commodities</td><td>No Quantity    </td><td>NA             </td><td>    85605877   </td></tr>\n",
       "\t<tr><td>H4             </td><td>2016           </td><td>United Kingdom </td><td>GBR            </td><td>World          </td><td>WLD            </td><td>Import         </td><td>All Commodities</td><td>No Quantity    </td><td>NA             </td><td>636367936193   </td></tr>\n",
       "\t<tr><td>H4             </td><td>2016           </td><td>United Kingdom </td><td>GBR            </td><td>World          </td><td>WLD            </td><td>Export         </td><td>All Commodities</td><td>No Quantity    </td><td>NA             </td><td>411463355625   </td></tr>\n",
       "\t<tr><td>H4             </td><td>2016           </td><td>United Kingdom </td><td>GBR            </td><td>World          </td><td>WLD            </td><td>Re-Import      </td><td>All Commodities</td><td>No Quantity    </td><td>NA             </td><td>  4502600363   </td></tr>\n",
       "</tbody>\n",
       "</table>\n"
      ],
      "text/latex": [
       "\\begin{tabular}{r|lllllllllll}\n",
       " classification & year & reporter & reporter\\_iso & partner & partner\\_iso & trade\\_flow & commodity & qty\\_unit & qty & trade\\_value\\_usd\\\\\n",
       "\\hline\n",
       "\t H4              & 2013            & United Kingdom  & GBR             & World           & WLD             & Import          & All Commodities & No Quantity     & NA              & 657222527853   \\\\\n",
       "\t H4              & 2013            & United Kingdom  & GBR             & World           & WLD             & Export          & All Commodities & No Quantity     & NA              & 548041853304   \\\\\n",
       "\t H4              & 2013            & United Kingdom  & GBR             & World           & WLD             & Re-Export       & All Commodities & No Quantity     & NA              &   6539885234   \\\\\n",
       "\t H4              & 2013            & United Kingdom  & GBR             & World           & WLD             & Re-Import       & All Commodities & No Quantity     & NA              &   5492572679   \\\\\n",
       "\t H4              & 2014            & United Kingdom  & GBR             & World           & WLD             & Import          & All Commodities & No Quantity     & NA              & 694344323261   \\\\\n",
       "\t H4              & 2014            & United Kingdom  & GBR             & World           & WLD             & Export          & All Commodities & No Quantity     & NA              & 511145442935   \\\\\n",
       "\t H4              & 2014            & United Kingdom  & GBR             & World           & WLD             & Re-Export       & All Commodities & No Quantity     & NA              &   9271608760   \\\\\n",
       "\t H4              & 2014            & United Kingdom  & GBR             & World           & WLD             & Re-Import       & All Commodities & No Quantity     & NA              &   8997118739   \\\\\n",
       "\t H5              & 2017            & United Kingdom  & GBR             & World           & WLD             & Import          & All Commodities & No Quantity     &  0              & 641332435861   \\\\\n",
       "\t H5              & 2017            & United Kingdom  & GBR             & World           & WLD             & Export          & All Commodities & No Quantity     &  0              & 442065707223   \\\\\n",
       "\t H5              & 2017            & United Kingdom  & GBR             & World           & WLD             & Re-Import       & All Commodities & No Quantity     &  0              &   4496972364   \\\\\n",
       "\t H4              & 2015            & United Kingdom  & GBR             & World           & WLD             & Import          & All Commodities & No Quantity     & NA              & 630251057548   \\\\\n",
       "\t H4              & 2015            & United Kingdom  & GBR             & World           & WLD             & Export          & All Commodities & No Quantity     & NA              & 466295682754   \\\\\n",
       "\t H4              & 2015            & United Kingdom  & GBR             & World           & WLD             & Re-Import       & All Commodities & No Quantity     & NA              &     85605877   \\\\\n",
       "\t H4              & 2016            & United Kingdom  & GBR             & World           & WLD             & Import          & All Commodities & No Quantity     & NA              & 636367936193   \\\\\n",
       "\t H4              & 2016            & United Kingdom  & GBR             & World           & WLD             & Export          & All Commodities & No Quantity     & NA              & 411463355625   \\\\\n",
       "\t H4              & 2016            & United Kingdom  & GBR             & World           & WLD             & Re-Import       & All Commodities & No Quantity     & NA              &   4502600363   \\\\\n",
       "\\end{tabular}\n"
      ],
      "text/plain": [
       "   classification year reporter       reporter_iso partner partner_iso\n",
       "1  H4             2013 United Kingdom GBR          World   WLD        \n",
       "2  H4             2013 United Kingdom GBR          World   WLD        \n",
       "3  H4             2013 United Kingdom GBR          World   WLD        \n",
       "4  H4             2013 United Kingdom GBR          World   WLD        \n",
       "5  H4             2014 United Kingdom GBR          World   WLD        \n",
       "6  H4             2014 United Kingdom GBR          World   WLD        \n",
       "7  H4             2014 United Kingdom GBR          World   WLD        \n",
       "8  H4             2014 United Kingdom GBR          World   WLD        \n",
       "9  H5             2017 United Kingdom GBR          World   WLD        \n",
       "10 H5             2017 United Kingdom GBR          World   WLD        \n",
       "11 H5             2017 United Kingdom GBR          World   WLD        \n",
       "12 H4             2015 United Kingdom GBR          World   WLD        \n",
       "13 H4             2015 United Kingdom GBR          World   WLD        \n",
       "14 H4             2015 United Kingdom GBR          World   WLD        \n",
       "15 H4             2016 United Kingdom GBR          World   WLD        \n",
       "16 H4             2016 United Kingdom GBR          World   WLD        \n",
       "17 H4             2016 United Kingdom GBR          World   WLD        \n",
       "   trade_flow commodity       qty_unit    qty trade_value_usd\n",
       "1  Import     All Commodities No Quantity NA  657222527853   \n",
       "2  Export     All Commodities No Quantity NA  548041853304   \n",
       "3  Re-Export  All Commodities No Quantity NA    6539885234   \n",
       "4  Re-Import  All Commodities No Quantity NA    5492572679   \n",
       "5  Import     All Commodities No Quantity NA  694344323261   \n",
       "6  Export     All Commodities No Quantity NA  511145442935   \n",
       "7  Re-Export  All Commodities No Quantity NA    9271608760   \n",
       "8  Re-Import  All Commodities No Quantity NA    8997118739   \n",
       "9  Import     All Commodities No Quantity  0  641332435861   \n",
       "10 Export     All Commodities No Quantity  0  442065707223   \n",
       "11 Re-Import  All Commodities No Quantity  0    4496972364   \n",
       "12 Import     All Commodities No Quantity NA  630251057548   \n",
       "13 Export     All Commodities No Quantity NA  466295682754   \n",
       "14 Re-Import  All Commodities No Quantity NA      85605877   \n",
       "15 Import     All Commodities No Quantity NA  636367936193   \n",
       "16 Export     All Commodities No Quantity NA  411463355625   \n",
       "17 Re-Import  All Commodities No Quantity NA    4502600363   "
      ]
     },
     "metadata": {},
     "output_type": "display_data"
    }
   ],
   "source": [
    "\n",
    "names(ukTrading)\n",
    "\n",
    "columns <- c('classification','year','reporter','reporter_iso','partner','partner_iso',#'second_partner','second_partner_iso',\n",
    "              'trade_flow',#'customs','mode_of_transport',\n",
    "             'commodity','qty_unit','qty','trade_value_usd')\n",
    "\n",
    "ukTrading[ukTrading$partner_iso=='WLD',columns] %>% {\n",
    "    .[!is.na(.$classification),]\n",
    "}\n",
    "    "
   ]
  },
  {
   "cell_type": "code",
   "execution_count": 6,
   "metadata": {},
   "outputs": [
    {
     "name": "stderr",
     "output_type": "stream",
     "text": [
      "Installing package into 'C:/Users/David/Documents/R/win-library/3.3'\n",
      "(as 'lib' is unspecified)\n",
      "also installing the dependencies 'maps', 'sp', 'proto', 'RgoogleMaps', 'rjson', 'mapproj', 'jpeg', 'geosphere'\n",
      "\n"
     ]
    },
    {
     "name": "stdout",
     "output_type": "stream",
     "text": [
      "package 'maps' successfully unpacked and MD5 sums checked\n",
      "package 'sp' successfully unpacked and MD5 sums checked\n",
      "package 'proto' successfully unpacked and MD5 sums checked\n",
      "package 'RgoogleMaps' successfully unpacked and MD5 sums checked\n",
      "package 'rjson' successfully unpacked and MD5 sums checked\n",
      "package 'mapproj' successfully unpacked and MD5 sums checked\n",
      "package 'jpeg' successfully unpacked and MD5 sums checked\n",
      "package 'geosphere' successfully unpacked and MD5 sums checked\n",
      "package 'ggmap' successfully unpacked and MD5 sums checked\n",
      "\n",
      "The downloaded binary packages are in\n",
      "\tC:\\Users\\David\\AppData\\Local\\Temp\\RtmpgV9kDP\\downloaded_packages\n"
     ]
    },
    {
     "name": "stderr",
     "output_type": "stream",
     "text": [
      "Loading required package: ggplot2\n",
      "\n",
      "Attaching package: 'ggmap'\n",
      "\n",
      "The following object is masked from 'package:magrittr':\n",
      "\n",
      "    inset\n",
      "\n"
     ]
    }
   ],
   "source": [
    "#install.packages('ggmap')\n",
    "library('ggmap')\n",
    "library('reshape2')"
   ]
  },
  {
   "cell_type": "code",
   "execution_count": 7,
   "metadata": {},
   "outputs": [
    {
     "name": "stderr",
     "output_type": "stream",
     "text": [
      "Information from URL : http://www.datasciencetoolkit.org/maps/api/geocode/json?address=United%20Kingdom&sensor=false\n"
     ]
    }
   ],
   "source": [
    "ukgeo <- geocode('United Kingdom',source='dsk')\n",
    "#worldmap <- get_map(location='world',source='cloudmade')\n"
   ]
  },
  {
   "cell_type": "code",
   "execution_count": 8,
   "metadata": {},
   "outputs": [
    {
     "data": {
      "text/html": [
       "<table>\n",
       "<thead><tr><th scope=col>lon</th><th scope=col>lat</th></tr></thead>\n",
       "<tbody>\n",
       "\t<tr><td>-2.69531</td><td>54.75844</td></tr>\n",
       "</tbody>\n",
       "</table>\n"
      ],
      "text/latex": [
       "\\begin{tabular}{r|ll}\n",
       " lon & lat\\\\\n",
       "\\hline\n",
       "\t -2.69531 & 54.75844\\\\\n",
       "\\end{tabular}\n"
      ],
      "text/plain": [
       "  lon      lat     \n",
       "1 -2.69531 54.75844"
      ]
     },
     "metadata": {},
     "output_type": "display_data"
    }
   ],
   "source": [
    "ukgeo"
   ]
  },
  {
   "cell_type": "code",
   "execution_count": 9,
   "metadata": {},
   "outputs": [
    {
     "name": "stderr",
     "output_type": "stream",
     "text": [
      "Warning message in is.na(.$classification):\n",
      "\"is.na() applied to non-(list or vector) of type 'NULL'\""
     ]
    },
    {
     "ename": "ERROR",
     "evalue": "Error in function_list[[k]](value): could not find function \"cast\"\n",
     "output_type": "error",
     "traceback": [
      "Error in function_list[[k]](value): could not find function \"cast\"\nTraceback:\n",
      "1. ukTrading[!(ukTrading$partner_iso == \"WLD\"), baseColumns] %>% \n .     {\n .         .[!is.na(.$classification), ]\n .     } %>% cast(reporter + partner + . ~ trade_value_usd)",
      "2. withVisible(eval(quote(`_fseq`(`_lhs`)), env, env))",
      "3. eval(quote(`_fseq`(`_lhs`)), env, env)",
      "4. eval(expr, envir, enclos)",
      "5. `_fseq`(`_lhs`)",
      "6. freduce(value, `_function_list`)",
      "7. withVisible(function_list[[k]](value))",
      "8. function_list[[k]](value)"
     ]
    }
   ],
   "source": [
    "baseColumns <- c('reporter','partner','trade_flow','trade_value_usd')\n",
    "ukTrading[!(ukTrading$partner_iso=='WLD'),baseColumns] %>% {\n",
    "    .[!is.na(.$classification),]\n",
    "} %>% cast(reporter+partner+.~trade_value_usd)\n",
    "    #id.vars=c('reporter','partner'),\n",
    "    #       measure.vars=\n",
    "    #       value.)"
   ]
  }
 ],
 "metadata": {
  "kernelspec": {
   "display_name": "R",
   "language": "R",
   "name": "ir"
  },
  "language_info": {
   "codemirror_mode": "r",
   "file_extension": ".r",
   "mimetype": "text/x-r-source",
   "name": "R",
   "pygments_lexer": "r",
   "version": "3.3.2"
  }
 },
 "nbformat": 4,
 "nbformat_minor": 2
}

{
 "cells": [
  {
   "cell_type": "markdown",
   "metadata": {},
   "source": [
    "# Agricultural Approaches to Data Science - The Rise of the Machines\n",
    "##### David Miller - July 2018 - [Link to Github](https://github.com/millerdw/millerdw.github.io/tree/master/_notebooks/AgriculturalApproaches_3)\n",
    "---"
   ]
  },
  {
   "cell_type": "markdown",
   "metadata": {},
   "source": [
    "![alt text](img\\masseyfergusson.jpg \"Courtesy of https://www.cultivar.fr/massey-ferguson-8732-dyna-vt\")"
   ]
  },
  {
   "cell_type": "markdown",
   "metadata": {},
   "source": [
    "We've [previously](https://millerdw.github.io) looked at downloading data from the World Bank API and generating simple visualisations from it using the libraries available in F#.\n",
    "\n",
    "My approach has been pretty lightweight and more based on visual analysis than 'real' statistics so far, and I want to continue that trend. The aim is to focus more on the process of drawing conclusions from datasets, so I don't want to get bogged down too much in the details (note: this has happened already, and is guaranteed to happen again soon). My thinking is that people can read a textbook if they want to, so I should get on with the process in general and using FSharp in particular.\n",
    "\n",
    "With this is mind, I'll try to provide links if something's too arduous to cover properly, and mark thinks as **[Extra]** if they get 'a bit much'. Hands up, though, I will start to use some basic statistical measures in this article, but I promise it will be intuitive, and will link to graphics as much as possible. "
   ]
  },
  {
   "cell_type": "markdown",
   "metadata": {},
   "source": [
    "### Terrkin Err Jeeerrrrbs!\n",
    "I noticed something interesting when looking into the previous piece about visualising the relationship between; in the UK's Cereal "
   ]
  },
  {
   "cell_type": "code",
   "execution_count": null,
   "metadata": {},
   "outputs": [],
   "source": [
    "#load \"Paket.fsx\"\n",
    "Paket.Package [\n",
    "    \"FSharp.Data\"\n",
    "    \"Deedle\"\n",
    "    \"XPlot.Plotly\"\n",
    "    ]\n",
    "#load \"Paket.Generated.Refs.fsx\""
   ]
  },
  {
   "cell_type": "code",
   "execution_count": null,
   "metadata": {},
   "outputs": [],
   "source": [
    "open System\n",
    "open FSharp.Data\n",
    "open Deedle\n",
    "#load \"XPlot.Plotly.fsx\"\n",
    "open XPlot.Plotly"
   ]
  },
  {
   "cell_type": "code",
   "execution_count": null,
   "metadata": {},
   "outputs": [],
   "source": [
    "let wb = WorldBankData.GetDataContext()"
   ]
  },
  {
   "cell_type": "code",
   "execution_count": null,
   "metadata": {},
   "outputs": [],
   "source": [
    "let ukCerealYields = \n",
    "    wb.Countries.``United Kingdom``\n",
    "        .Indicators.``Cereal yield (kg per hectare)``\n",
    "\n",
    "let ukTractorDensities =\n",
    "    wb.Countries.``United Kingdom``\n",
    "        .Indicators.``Agricultural machinery, tractors per 100 sq. km of arable land``"
   ]
  },
  {
   "cell_type": "code",
   "execution_count": null,
   "metadata": {},
   "outputs": [],
   "source": [
    "ukTractorDensity\n",
    "    |> Chart.Line\n",
    "    |> Chart.WithLayout(Layout(title = \"UK Tractor Density\",\n",
    "                                showlegend = false, \n",
    "                                xaxis=Xaxis(title=\"Year\"),\n",
    "                                yaxis=Yaxis(title=\"Tractors per 100 sq. km\")))"
   ]
  },
  {
   "cell_type": "code",
   "execution_count": null,
   "metadata": {},
   "outputs": [],
   "source": [
    "let ukTractorEffectFrame =\n",
    "    frame [\n",
    "            \"ukCerealYield\" => Series(ukCerealYields |> dict);\n",
    "            \"ukTractorDensity\" => Series(ukTractorDensities |> dict)\n",
    "            ]\n"
   ]
  },
  {
   "cell_type": "code",
   "execution_count": null,
   "metadata": {},
   "outputs": [],
   "source": [
    "ukTractorEffectFrame\n",
    "    |> Frame.toArray2D\n",
    "    |> fun f -> seq {for i in 0..(Array2D.length1(f)-1) do yield (f.[i,1], f.[i,0])}\n",
    "    |> Seq.filter(fun (x,y) -> not (Double.IsNaN(x) || Double.IsNaN(y)))\n",
    "    |> Chart.Scatter\n",
    "    |> Chart.WithLayout(Layout(title = \"UK Tractor Effect\", \n",
    "                                showlegend = false, \n",
    "                                xaxis=Xaxis(title=\"Tractor Density (units per 100 sq. km)\"),\n",
    "                                yaxis=Yaxis(title=\"Cereal Yield (kg per hectare)\")))"
   ]
  },
  {
   "cell_type": "code",
   "execution_count": null,
   "metadata": {},
   "outputs": [],
   "source": []
  }
 ],
 "metadata": {
  "kernelspec": {
   "display_name": "F#",
   "language": "fsharp",
   "name": "ifsharp"
  },
  "language": "fsharp",
  "language_info": {
   "codemirror_mode": "",
   "file_extension": ".fs",
   "mimetype": "text/x-fsharp",
   "name": "fsharp",
   "nbconvert_exporter": "",
   "pygments_lexer": "",
   "version": "4.3.1.0"
  }
 },
 "nbformat": 4,
 "nbformat_minor": 2
}

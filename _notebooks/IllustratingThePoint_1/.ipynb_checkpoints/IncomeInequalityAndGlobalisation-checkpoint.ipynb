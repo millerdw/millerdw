{
 "cells": [
  {
   "cell_type": "raw",
   "metadata": {},
   "source": [
    "---\n",
    "title: Income Inequality and Globalisation\n",
    "layout: post\n",
    "tags: [R,WorldBank Development Indicators]\n",
    "categories: [Illustrating The Point]\n",
    "---"
   ]
  },
  {
   "cell_type": "markdown",
   "metadata": {},
   "source": [
    "# Illustrating The Point - Income Inequality and Globalisation\n",
    "##### David Miller - March 2019 - [Link to Github][1]\n",
    "---\n",
    "[1]:(https://github.com/millerdw/millerdw.github.io/tree/master/_notebooks/IllustratingThePoint_1)"
   ]
  },
  {
   "cell_type": "markdown",
   "metadata": {},
   "source": [
    "I recently read a [summary][2] of an IMF working paper that produced a result that I wasn't expecting. The paper was a statistical analysis of the effect of 'openness to trade' (defined as the absolute sum of imports + exports as a % of GDP) on income inequality (GINI Coefficient).\n",
    "\n",
    "One of the conclusions was that, if anything, openness to trade resulted in reduced income inequality within a country.\n",
    "\n",
    "This struck me as an oversimplification of quite a complex problem. I'd expect global trade to reduce inequality *between* countries, where inequality can be approximated as cheaper labour, but I'd also expect this effect to be concentrated in more labour-intensive industries; increasing income inequality *within* some countries as it reduced it in others. \n",
    "\n",
    "An added complication of this would be that in countries with poor representation of labour there might be an asymmetry in how the effect is passed on to workers; owners of a business are likely to be in a very different income group to their employees, and as factory owners in one country might put pressure on wages in the face of foreign competition, factory workers in another might not see all the benefits of increased demand.\n",
    "\n",
    "[2]: https://www.imf.org/~/media/Files/Publications/CR/2017/cr1766-ap-2.ashx\n",
    "[3]: https://www.theguardian.com/business/2018/jan/02/do-globalisation-and-world-trade-fuel-inequality"
   ]
  },
  {
   "cell_type": "markdown",
   "metadata": {},
   "source": [
    "> The evidence suggests that, if anything, trade tends to reduce overall income\n",
    "inequality ... Point estimates suggest that one-percentage-point higher openness causes the\n",
    "income of the top decile [of the income distribution] to decrease by about 4 percent relative to the income of the bottom decile\n",
    "of the income distribution.\n",
    ">\n",
    "> *The Effect of Trade on Income and Inequality: A\n",
    "Cross-Sectional Approach (IMF, March 2017)*"
   ]
  },
  {
   "cell_type": "markdown",
   "metadata": {},
   "source": [
    "These difficulties aside, I thought this might make an interesting topic for exploration, as trading data is freely available from the WorldBank and other institutions.\n",
    "\n",
    "In this post I'm using R and a number of the usual suspects in terms of open source packages (reshape2, ggplot2, dplyr, magrittr). Most importantly, though, I've found an API wrapper for the WorldBank's Development data: [WDI][4].\n",
    "\n",
    "All of the handling of these objects can be found on [Github][1]\n",
    "\n",
    "[1]:(https://github.com/millerdw/millerdw.github.io/tree/master/_notebooks/IllustratingThePoint_1)\n",
    "[4]:(https://www.r-project.org/nosvn/pandoc/WDI.html)"
   ]
  },
  {
   "cell_type": "code",
   "execution_count": 52,
   "metadata": {},
   "outputs": [],
   "source": [
    "source('./untitled.R')\n",
    "dat <- downloadWDIData()"
   ]
  },
  {
   "cell_type": "markdown",
   "metadata": {},
   "source": [
    "> There is a strong correlation between trade and income, and trade and inequality in\n",
    "the cross section of countries, but inferring causality is complicated due to endogeneity\n",
    "problems \n",
    ">\n",
    ">*The Effect of Trade on Income and Inequality: A\n",
    "Cross-Sectional Approach (IMF, March 2017)*"
   ]
  },
  {
   "cell_type": "code",
   "execution_count": 54,
   "metadata": {},
   "outputs": [
    {
     "data": {},
     "metadata": {},
     "output_type": "display_data"
    },
    {
     "data": {
      "image/png": "[encoded data removed]",
      "text/plain": [
       "plot without title"
      ]
     },
     "metadata": {},
     "output_type": "display_data"
    }
   ],
   "source": [
    "\n",
    "options(repr.plot.width=9, repr.plot.height=3)\n",
    "ggPlotAxes(dat[(dat$country %in% countries),],'TotalAbsoluteTradesPctGDP','GiniCoefficient') +\n",
    "    geom_point() +\n",
    "    labs(title='Income Inequality and Trade Openness')\n",
    "#+\n",
    "        #facet_wrap( ~ country)#, scales='fixed')"
   ]
  },
  {
   "cell_type": "code",
   "execution_count": null,
   "metadata": {},
   "outputs": [],
   "source": [
    "\n",
    "measures <- c('TradePctGDP'#,#'ImportsPctGDP','ExportsPctGDP','CurrentAccountBalancePctGDP',\n",
    "               #'ManufacturesPctMerchImports','ManufacturesPctMerchExports','TechPctManufacturesExports',\n",
    "               #'PctMerchImportsFromLowMiddle','PctMerchExportsToHigh',\n",
    "               #'GoodsImportsPctGDP','GoodsExportsPctGDP','ServiceImportsPctGDP','ServiceExportsPctGDP'\n",
    "               #'NetGoodsTradesPctGDP','NetServiceTradesPctGDP'\n",
    "             )\n",
    "incomeShareQuintiles <- c('IncomeShare1stQuintile','IncomeShare2ndQuintile','IncomeShare3rdQuintile','IncomeShare4thQuintile','IncomeShare5thQuintile')\n",
    "\n",
    "moltenData <- melt(data=dat[,c(key,\n",
    "                               measures,\n",
    "                               incomeShareQuintiles)], \n",
    "                   id.vars=c(key,measures), \n",
    "                   #measure.vars=c('IncomeShare1stQuintile','IncomeShare2ndQuintile','IncomeShare3rdQuintile','IncomeShare4thQuintile','IncomeShare5thQuintile'),\n",
    "                   variable.name='IncomeShareQuintile',\n",
    "                   value.name='IncomeShare')\n"
   ]
  },
  {
   "cell_type": "code",
   "execution_count": null,
   "metadata": {},
   "outputs": [],
   "source": [
    "options(repr.plot.width=10, repr.plot.height=3)\n",
    "\n",
    "countries<-c('France','Germany','Mexico','Thailand','United States','United Kingdom')\n",
    "ggplot(data=moltenData[!is.na(moltenData$TradePctGDP) & (moltenData$country %in% countries) & !is.na(moltenData$IncomeShare) & moltenData$IncomeShare!=0,],\n",
    "       aes(x=TradePctGDP, color=country, group=country)) +\n",
    "    geom_point(aes(y=IncomeShare)) +\n",
    "    facet_wrap( ~ country)#, scales='fixed')"
   ]
  },
  {
   "cell_type": "code",
   "execution_count": null,
   "metadata": {},
   "outputs": [],
   "source": [
    "options(repr.plot.width=10, repr.plot.height=4)\n",
    "\n",
    "moreMoltenData <- melt(moltenData[!is.na(moltenData$TradePctGDP) & (moltenData$country %in% countries) & !is.na(moltenData$IncomeShare) & moltenData$IncomeShare!=0,],\n",
    "                       id.vars=c('year','country','IncomeShareQuintile'),\n",
    "                       variable.name='EconomicMeasure',\n",
    "                       value.name='Percent')\n",
    "ggplot(data=moreMoltenData,\n",
    "       aes(x=year, color=country, group=IncomeShareQuintile)) +\n",
    "    geom_line(aes(y=Percent)) +\n",
    "    facet_grid(EconomicMeasure~country, scales='free_y')"
   ]
  },
  {
   "cell_type": "code",
   "execution_count": null,
   "metadata": {},
   "outputs": [],
   "source": [
    "#dat[,c('country','year','TradePctGDP')]\n",
    "\n",
    "dat[dat$country %in% countries,] %>%\n",
    "  group_by(country) %>%\n",
    "  summarize(\n",
    "           pTradeIncome1st=cor(TradePctGDP,IncomeShare1stQuintile, use=\"complete.obs\"),\n",
    "           pTradeIncome2nd=cor(TradePctGDP,IncomeShare2ndQuintile, use=\"complete.obs\"),\n",
    "           pTradeIncome3rd=cor(TradePctGDP,IncomeShare3rdQuintile, use=\"complete.obs\"),\n",
    "           pTradeIncome4th=cor(TradePctGDP,IncomeShare4thQuintile, use=\"complete.obs\"),\n",
    "           pTradeIncome5th=cor(TradePctGDP,IncomeShare5thQuintile, use=\"complete.obs\"),\n",
    "           #pCADIncome1st=cor(CurrentAccountBalancePctGDP,IncomeShare1stQuintile, use=\"complete.obs\"),\n",
    "           #pCADIncome2nd=cor(CurrentAccountBalancePctGDP,IncomeShare2ndQuintile, use=\"complete.obs\"),\n",
    "           #pCADIncome3rd=cor(CurrentAccountBalancePctGDP,IncomeShare3rdQuintile, use=\"complete.obs\"),\n",
    "           #pCADIncome4th=cor(CurrentAccountBalancePctGDP,IncomeShare4thQuintile, use=\"complete.obs\"),\n",
    "           #pCADIncome5th=cor(CurrentAccountBalancePctGDP,IncomeShare5thQuintile, use=\"complete.obs\"),\n",
    "           MeanCurrentAccountDeficit=mean(CurrentAccountBalancePctGDP, na.rm=T),\n",
    "           MeanGoodsTradeSurplusPctGDP=mean(NetGoodsTradesPctGDP, na.rm=T),\n",
    "           MeanServiceTradeSurplusPctGDP=mean(NetServiceTradesPctGDP, na.rm=T))\n",
    "\n",
    "\n"
   ]
  },
  {
   "cell_type": "code",
   "execution_count": null,
   "metadata": {},
   "outputs": [],
   "source": [
    "moltenData %>% {\n",
    "        .$Period<-.$year-(.$year %% 3)\n",
    "        .\n",
    "    } %>%\n",
    "    group_by(country,IncomeShareQuintile,Period) %>%\n",
    "    summarise(MeanTradePctGDP = mean(TradePctGDP,na.rm=F),\n",
    "              MeanIncomeShare = mean(IncomeShare,na.rm=F)) %>% {\n",
    "        .[!is.na(.$MeanTradePctGDP) & !is.na(.$MeanIncomeShare),]\n",
    "    }\n",
    "\n",
    "#[moltenData$year %% 5 == 0,c('year','country','TradePctGDP','IncomeShareQuintile')] %>%\n",
    "    #dcast(country+IncomeShareQuintile~year,value.var='IncomeShare')"
   ]
  },
  {
   "cell_type": "code",
   "execution_count": null,
   "metadata": {},
   "outputs": [],
   "source": [
    " %>%\n",
    "    group_by(country,IncomeShareQuintile,Period) %>%\n",
    "    summarise(MeanTradePctGDP = mean(TradePctGDP,na.rm=F),\n",
    "              MeanIncomeShare = mean(IncomeShare,na.rm=F),)\n",
    "#[moltenData$year %% 5 == 0,c('year','country','TradePctGDP','IncomeShareQuintile')] %>%\n",
    "    dcast(country+IncomeShareQuintile~year,value.var='IncomeShare')"
   ]
  }
 ],
 "metadata": {
  "kernelspec": {
   "display_name": "R",
   "language": "R",
   "name": "ir"
  },
  "language_info": {
   "codemirror_mode": "r",
   "file_extension": ".r",
   "mimetype": "text/x-r-source",
   "name": "R",
   "pygments_lexer": "r",
   "version": "3.3.2"
  }
 },
 "nbformat": 4,
 "nbformat_minor": 2
}

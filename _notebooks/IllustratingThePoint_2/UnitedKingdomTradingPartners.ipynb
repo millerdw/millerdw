{
  "cells": [
    {
      "metadata": {
        "trusted": true
      },
      "cell_type": "code",
      "source": "#install.packages('comtradr')\nlibrary('comtradr')\nlibrary('magrittr')",
      "execution_count": 18,
      "outputs": []
    },
    {
      "metadata": {
        "trusted": true
      },
      "cell_type": "code",
      "source": "ukTrading <- ct_search(reporters='United Kingdom',\n                       partners='All',\n                       trade_direction='all',\n                       start_date=2013,\n                       end_date=2017)\n",
      "execution_count": 4,
      "outputs": []
    },
    {
      "metadata": {
        "trusted": true
      },
      "cell_type": "code",
      "source": "\nnames(ukTrading)\n\ncolumns <- c('classification','year','reporter','reporter_iso','partner','partner_iso',#'second_partner','second_partner_iso',\n              'trade_flow',#'customs','mode_of_transport',\n             'commodity','qty_unit','qty','trade_value_usd')\n\nukTrading[ukTrading$partner_iso=='WLD',columns] %>% {\n    .[!is.na(.$classification),]\n}\n    ",
      "execution_count": 19,
      "outputs": [
        {
          "output_type": "display_data",
          "data": {
            "text/plain": " [1] \"classification\"         \"year\"                   \"period\"                \n [4] \"period_desc\"            \"aggregate_level\"        \"is_leaf_code\"          \n [7] \"trade_flow_code\"        \"trade_flow\"             \"reporter_code\"         \n[10] \"reporter\"               \"reporter_iso\"           \"partner_code\"          \n[13] \"partner\"                \"partner_iso\"            \"second_partner_code\"   \n[16] \"second_partner\"         \"second_partner_iso\"     \"customs_proc_code\"     \n[19] \"customs\"                \"mode_of_transport_code\" \"mode_of_transport\"     \n[22] \"commodity_code\"         \"commodity\"              \"qty_unit_code\"         \n[25] \"qty_unit\"               \"alt_qty_unit_code\"      \"alt_qty_unit\"          \n[28] \"qty\"                    \"alt_qty\"                \"netweight_kg\"          \n[31] \"gross_weight_kg\"        \"trade_value_usd\"        \"cif_trade_value_usd\"   \n[34] \"fob_trade_value_usd\"    \"flag\"                  ",
            "text/latex": "\\begin{enumerate*}\n\\item 'classification'\n\\item 'year'\n\\item 'period'\n\\item 'period\\_desc'\n\\item 'aggregate\\_level'\n\\item 'is\\_leaf\\_code'\n\\item 'trade\\_flow\\_code'\n\\item 'trade\\_flow'\n\\item 'reporter\\_code'\n\\item 'reporter'\n\\item 'reporter\\_iso'\n\\item 'partner\\_code'\n\\item 'partner'\n\\item 'partner\\_iso'\n\\item 'second\\_partner\\_code'\n\\item 'second\\_partner'\n\\item 'second\\_partner\\_iso'\n\\item 'customs\\_proc\\_code'\n\\item 'customs'\n\\item 'mode\\_of\\_transport\\_code'\n\\item 'mode\\_of\\_transport'\n\\item 'commodity\\_code'\n\\item 'commodity'\n\\item 'qty\\_unit\\_code'\n\\item 'qty\\_unit'\n\\item 'alt\\_qty\\_unit\\_code'\n\\item 'alt\\_qty\\_unit'\n\\item 'qty'\n\\item 'alt\\_qty'\n\\item 'netweight\\_kg'\n\\item 'gross\\_weight\\_kg'\n\\item 'trade\\_value\\_usd'\n\\item 'cif\\_trade\\_value\\_usd'\n\\item 'fob\\_trade\\_value\\_usd'\n\\item 'flag'\n\\end{enumerate*}\n",
            "text/markdown": "1. 'classification'\n2. 'year'\n3. 'period'\n4. 'period_desc'\n5. 'aggregate_level'\n6. 'is_leaf_code'\n7. 'trade_flow_code'\n8. 'trade_flow'\n9. 'reporter_code'\n10. 'reporter'\n11. 'reporter_iso'\n12. 'partner_code'\n13. 'partner'\n14. 'partner_iso'\n15. 'second_partner_code'\n16. 'second_partner'\n17. 'second_partner_iso'\n18. 'customs_proc_code'\n19. 'customs'\n20. 'mode_of_transport_code'\n21. 'mode_of_transport'\n22. 'commodity_code'\n23. 'commodity'\n24. 'qty_unit_code'\n25. 'qty_unit'\n26. 'alt_qty_unit_code'\n27. 'alt_qty_unit'\n28. 'qty'\n29. 'alt_qty'\n30. 'netweight_kg'\n31. 'gross_weight_kg'\n32. 'trade_value_usd'\n33. 'cif_trade_value_usd'\n34. 'fob_trade_value_usd'\n35. 'flag'\n\n\n",
            "text/html": "<ol class=list-inline>\n\t<li>'classification'</li>\n\t<li>'year'</li>\n\t<li>'period'</li>\n\t<li>'period_desc'</li>\n\t<li>'aggregate_level'</li>\n\t<li>'is_leaf_code'</li>\n\t<li>'trade_flow_code'</li>\n\t<li>'trade_flow'</li>\n\t<li>'reporter_code'</li>\n\t<li>'reporter'</li>\n\t<li>'reporter_iso'</li>\n\t<li>'partner_code'</li>\n\t<li>'partner'</li>\n\t<li>'partner_iso'</li>\n\t<li>'second_partner_code'</li>\n\t<li>'second_partner'</li>\n\t<li>'second_partner_iso'</li>\n\t<li>'customs_proc_code'</li>\n\t<li>'customs'</li>\n\t<li>'mode_of_transport_code'</li>\n\t<li>'mode_of_transport'</li>\n\t<li>'commodity_code'</li>\n\t<li>'commodity'</li>\n\t<li>'qty_unit_code'</li>\n\t<li>'qty_unit'</li>\n\t<li>'alt_qty_unit_code'</li>\n\t<li>'alt_qty_unit'</li>\n\t<li>'qty'</li>\n\t<li>'alt_qty'</li>\n\t<li>'netweight_kg'</li>\n\t<li>'gross_weight_kg'</li>\n\t<li>'trade_value_usd'</li>\n\t<li>'cif_trade_value_usd'</li>\n\t<li>'fob_trade_value_usd'</li>\n\t<li>'flag'</li>\n</ol>\n"
          },
          "metadata": {}
        },
        {
          "output_type": "display_data",
          "data": {
            "text/plain": "   classification year reporter       reporter_iso partner partner_iso\n1  H4             2013 United Kingdom GBR          World   WLD        \n2  H4             2013 United Kingdom GBR          World   WLD        \n3  H4             2013 United Kingdom GBR          World   WLD        \n4  H4             2013 United Kingdom GBR          World   WLD        \n5  H4             2014 United Kingdom GBR          World   WLD        \n6  H4             2014 United Kingdom GBR          World   WLD        \n7  H4             2014 United Kingdom GBR          World   WLD        \n8  H4             2014 United Kingdom GBR          World   WLD        \n9  H5             2017 United Kingdom GBR          World   WLD        \n10 H5             2017 United Kingdom GBR          World   WLD        \n11 H5             2017 United Kingdom GBR          World   WLD        \n12 H4             2015 United Kingdom GBR          World   WLD        \n13 H4             2015 United Kingdom GBR          World   WLD        \n14 H4             2015 United Kingdom GBR          World   WLD        \n15 H4             2016 United Kingdom GBR          World   WLD        \n16 H4             2016 United Kingdom GBR          World   WLD        \n17 H4             2016 United Kingdom GBR          World   WLD        \n   trade_flow commodity       qty_unit    qty trade_value_usd\n1  Import     All Commodities No Quantity NA  657222527853   \n2  Export     All Commodities No Quantity NA  548041853304   \n3  Re-Export  All Commodities No Quantity NA    6539885234   \n4  Re-Import  All Commodities No Quantity NA    5492572679   \n5  Import     All Commodities No Quantity NA  694344323261   \n6  Export     All Commodities No Quantity NA  511145442935   \n7  Re-Export  All Commodities No Quantity NA    9271608760   \n8  Re-Import  All Commodities No Quantity NA    8997118739   \n9  Import     All Commodities No Quantity  0  641332435861   \n10 Export     All Commodities No Quantity  0  442065707223   \n11 Re-Import  All Commodities No Quantity  0    4496972364   \n12 Import     All Commodities No Quantity NA  630251057548   \n13 Export     All Commodities No Quantity NA  466295682754   \n14 Re-Import  All Commodities No Quantity NA      85605877   \n15 Import     All Commodities No Quantity NA  636367936193   \n16 Export     All Commodities No Quantity NA  411463355625   \n17 Re-Import  All Commodities No Quantity NA    4502600363   ",
            "text/latex": "\\begin{tabular}{r|lllllllllll}\n classification & year & reporter & reporter\\_iso & partner & partner\\_iso & trade\\_flow & commodity & qty\\_unit & qty & trade\\_value\\_usd\\\\\n\\hline\n\t H4              & 2013            & United Kingdom  & GBR             & World           & WLD             & Import          & All Commodities & No Quantity     & NA              & 657222527853   \\\\\n\t H4              & 2013            & United Kingdom  & GBR             & World           & WLD             & Export          & All Commodities & No Quantity     & NA              & 548041853304   \\\\\n\t H4              & 2013            & United Kingdom  & GBR             & World           & WLD             & Re-Export       & All Commodities & No Quantity     & NA              &   6539885234   \\\\\n\t H4              & 2013            & United Kingdom  & GBR             & World           & WLD             & Re-Import       & All Commodities & No Quantity     & NA              &   5492572679   \\\\\n\t H4              & 2014            & United Kingdom  & GBR             & World           & WLD             & Import          & All Commodities & No Quantity     & NA              & 694344323261   \\\\\n\t H4              & 2014            & United Kingdom  & GBR             & World           & WLD             & Export          & All Commodities & No Quantity     & NA              & 511145442935   \\\\\n\t H4              & 2014            & United Kingdom  & GBR             & World           & WLD             & Re-Export       & All Commodities & No Quantity     & NA              &   9271608760   \\\\\n\t H4              & 2014            & United Kingdom  & GBR             & World           & WLD             & Re-Import       & All Commodities & No Quantity     & NA              &   8997118739   \\\\\n\t H5              & 2017            & United Kingdom  & GBR             & World           & WLD             & Import          & All Commodities & No Quantity     &  0              & 641332435861   \\\\\n\t H5              & 2017            & United Kingdom  & GBR             & World           & WLD             & Export          & All Commodities & No Quantity     &  0              & 442065707223   \\\\\n\t H5              & 2017            & United Kingdom  & GBR             & World           & WLD             & Re-Import       & All Commodities & No Quantity     &  0              &   4496972364   \\\\\n\t H4              & 2015            & United Kingdom  & GBR             & World           & WLD             & Import          & All Commodities & No Quantity     & NA              & 630251057548   \\\\\n\t H4              & 2015            & United Kingdom  & GBR             & World           & WLD             & Export          & All Commodities & No Quantity     & NA              & 466295682754   \\\\\n\t H4              & 2015            & United Kingdom  & GBR             & World           & WLD             & Re-Import       & All Commodities & No Quantity     & NA              &     85605877   \\\\\n\t H4              & 2016            & United Kingdom  & GBR             & World           & WLD             & Import          & All Commodities & No Quantity     & NA              & 636367936193   \\\\\n\t H4              & 2016            & United Kingdom  & GBR             & World           & WLD             & Export          & All Commodities & No Quantity     & NA              & 411463355625   \\\\\n\t H4              & 2016            & United Kingdom  & GBR             & World           & WLD             & Re-Import       & All Commodities & No Quantity     & NA              &   4502600363   \\\\\n\\end{tabular}\n",
            "text/markdown": "\nclassification | year | reporter | reporter_iso | partner | partner_iso | trade_flow | commodity | qty_unit | qty | trade_value_usd | \n|---|---|---|---|---|---|---|---|---|---|---|---|---|---|---|---|---|\n| H4              | 2013            | United Kingdom  | GBR             | World           | WLD             | Import          | All Commodities | No Quantity     | NA              | 657222527853    | \n| H4              | 2013            | United Kingdom  | GBR             | World           | WLD             | Export          | All Commodities | No Quantity     | NA              | 548041853304    | \n| H4              | 2013            | United Kingdom  | GBR             | World           | WLD             | Re-Export       | All Commodities | No Quantity     | NA              |   6539885234    | \n| H4              | 2013            | United Kingdom  | GBR             | World           | WLD             | Re-Import       | All Commodities | No Quantity     | NA              |   5492572679    | \n| H4              | 2014            | United Kingdom  | GBR             | World           | WLD             | Import          | All Commodities | No Quantity     | NA              | 694344323261    | \n| H4              | 2014            | United Kingdom  | GBR             | World           | WLD             | Export          | All Commodities | No Quantity     | NA              | 511145442935    | \n| H4              | 2014            | United Kingdom  | GBR             | World           | WLD             | Re-Export       | All Commodities | No Quantity     | NA              |   9271608760    | \n| H4              | 2014            | United Kingdom  | GBR             | World           | WLD             | Re-Import       | All Commodities | No Quantity     | NA              |   8997118739    | \n| H5              | 2017            | United Kingdom  | GBR             | World           | WLD             | Import          | All Commodities | No Quantity     |  0              | 641332435861    | \n| H5              | 2017            | United Kingdom  | GBR             | World           | WLD             | Export          | All Commodities | No Quantity     |  0              | 442065707223    | \n| H5              | 2017            | United Kingdom  | GBR             | World           | WLD             | Re-Import       | All Commodities | No Quantity     |  0              |   4496972364    | \n| H4              | 2015            | United Kingdom  | GBR             | World           | WLD             | Import          | All Commodities | No Quantity     | NA              | 630251057548    | \n| H4              | 2015            | United Kingdom  | GBR             | World           | WLD             | Export          | All Commodities | No Quantity     | NA              | 466295682754    | \n| H4              | 2015            | United Kingdom  | GBR             | World           | WLD             | Re-Import       | All Commodities | No Quantity     | NA              |     85605877    | \n| H4              | 2016            | United Kingdom  | GBR             | World           | WLD             | Import          | All Commodities | No Quantity     | NA              | 636367936193    | \n| H4              | 2016            | United Kingdom  | GBR             | World           | WLD             | Export          | All Commodities | No Quantity     | NA              | 411463355625    | \n| H4              | 2016            | United Kingdom  | GBR             | World           | WLD             | Re-Import       | All Commodities | No Quantity     | NA              |   4502600363    | \n\n\n",
            "text/html": "<table>\n<thead><tr><th scope=col>classification</th><th scope=col>year</th><th scope=col>reporter</th><th scope=col>reporter_iso</th><th scope=col>partner</th><th scope=col>partner_iso</th><th scope=col>trade_flow</th><th scope=col>commodity</th><th scope=col>qty_unit</th><th scope=col>qty</th><th scope=col>trade_value_usd</th></tr></thead>\n<tbody>\n\t<tr><td>H4             </td><td>2013           </td><td>United Kingdom </td><td>GBR            </td><td>World          </td><td>WLD            </td><td>Import         </td><td>All Commodities</td><td>No Quantity    </td><td>NA             </td><td>657222527853   </td></tr>\n\t<tr><td>H4             </td><td>2013           </td><td>United Kingdom </td><td>GBR            </td><td>World          </td><td>WLD            </td><td>Export         </td><td>All Commodities</td><td>No Quantity    </td><td>NA             </td><td>548041853304   </td></tr>\n\t<tr><td>H4             </td><td>2013           </td><td>United Kingdom </td><td>GBR            </td><td>World          </td><td>WLD            </td><td>Re-Export      </td><td>All Commodities</td><td>No Quantity    </td><td>NA             </td><td>  6539885234   </td></tr>\n\t<tr><td>H4             </td><td>2013           </td><td>United Kingdom </td><td>GBR            </td><td>World          </td><td>WLD            </td><td>Re-Import      </td><td>All Commodities</td><td>No Quantity    </td><td>NA             </td><td>  5492572679   </td></tr>\n\t<tr><td>H4             </td><td>2014           </td><td>United Kingdom </td><td>GBR            </td><td>World          </td><td>WLD            </td><td>Import         </td><td>All Commodities</td><td>No Quantity    </td><td>NA             </td><td>694344323261   </td></tr>\n\t<tr><td>H4             </td><td>2014           </td><td>United Kingdom </td><td>GBR            </td><td>World          </td><td>WLD            </td><td>Export         </td><td>All Commodities</td><td>No Quantity    </td><td>NA             </td><td>511145442935   </td></tr>\n\t<tr><td>H4             </td><td>2014           </td><td>United Kingdom </td><td>GBR            </td><td>World          </td><td>WLD            </td><td>Re-Export      </td><td>All Commodities</td><td>No Quantity    </td><td>NA             </td><td>  9271608760   </td></tr>\n\t<tr><td>H4             </td><td>2014           </td><td>United Kingdom </td><td>GBR            </td><td>World          </td><td>WLD            </td><td>Re-Import      </td><td>All Commodities</td><td>No Quantity    </td><td>NA             </td><td>  8997118739   </td></tr>\n\t<tr><td>H5             </td><td>2017           </td><td>United Kingdom </td><td>GBR            </td><td>World          </td><td>WLD            </td><td>Import         </td><td>All Commodities</td><td>No Quantity    </td><td> 0             </td><td>641332435861   </td></tr>\n\t<tr><td>H5             </td><td>2017           </td><td>United Kingdom </td><td>GBR            </td><td>World          </td><td>WLD            </td><td>Export         </td><td>All Commodities</td><td>No Quantity    </td><td> 0             </td><td>442065707223   </td></tr>\n\t<tr><td>H5             </td><td>2017           </td><td>United Kingdom </td><td>GBR            </td><td>World          </td><td>WLD            </td><td>Re-Import      </td><td>All Commodities</td><td>No Quantity    </td><td> 0             </td><td>  4496972364   </td></tr>\n\t<tr><td>H4             </td><td>2015           </td><td>United Kingdom </td><td>GBR            </td><td>World          </td><td>WLD            </td><td>Import         </td><td>All Commodities</td><td>No Quantity    </td><td>NA             </td><td>630251057548   </td></tr>\n\t<tr><td>H4             </td><td>2015           </td><td>United Kingdom </td><td>GBR            </td><td>World          </td><td>WLD            </td><td>Export         </td><td>All Commodities</td><td>No Quantity    </td><td>NA             </td><td>466295682754   </td></tr>\n\t<tr><td>H4             </td><td>2015           </td><td>United Kingdom </td><td>GBR            </td><td>World          </td><td>WLD            </td><td>Re-Import      </td><td>All Commodities</td><td>No Quantity    </td><td>NA             </td><td>    85605877   </td></tr>\n\t<tr><td>H4             </td><td>2016           </td><td>United Kingdom </td><td>GBR            </td><td>World          </td><td>WLD            </td><td>Import         </td><td>All Commodities</td><td>No Quantity    </td><td>NA             </td><td>636367936193   </td></tr>\n\t<tr><td>H4             </td><td>2016           </td><td>United Kingdom </td><td>GBR            </td><td>World          </td><td>WLD            </td><td>Export         </td><td>All Commodities</td><td>No Quantity    </td><td>NA             </td><td>411463355625   </td></tr>\n\t<tr><td>H4             </td><td>2016           </td><td>United Kingdom </td><td>GBR            </td><td>World          </td><td>WLD            </td><td>Re-Import      </td><td>All Commodities</td><td>No Quantity    </td><td>NA             </td><td>  4502600363   </td></tr>\n</tbody>\n</table>\n"
          },
          "metadata": {}
        }
      ]
    },
    {
      "metadata": {
        "trusted": true
      },
      "cell_type": "code",
      "source": "#install.packages('ggmap')\nlibrary('ggmap')\nlibrary('reshape2')",
      "execution_count": 37,
      "outputs": []
    },
    {
      "metadata": {
        "trusted": true
      },
      "cell_type": "code",
      "source": "ukgeo <- geocode('United Kingdom',source='dsk')\n#worldmap <- get_map(location='world',source='cloudmade')\n",
      "execution_count": 35,
      "outputs": []
    },
    {
      "metadata": {
        "trusted": true
      },
      "cell_type": "code",
      "source": "ukgeo",
      "execution_count": 36,
      "outputs": [
        {
          "output_type": "display_data",
          "data": {
            "text/plain": "  lon      lat     \n1 -2.69531 54.75844",
            "text/latex": "\\begin{tabular}{r|ll}\n lon & lat\\\\\n\\hline\n\t -2.69531 & 54.75844\\\\\n\\end{tabular}\n",
            "text/markdown": "\nlon | lat | \n|---|\n| -2.69531 | 54.75844 | \n\n\n",
            "text/html": "<table>\n<thead><tr><th scope=col>lon</th><th scope=col>lat</th></tr></thead>\n<tbody>\n\t<tr><td>-2.69531</td><td>54.75844</td></tr>\n</tbody>\n</table>\n"
          },
          "metadata": {}
        }
      ]
    },
    {
      "metadata": {
        "trusted": true
      },
      "cell_type": "code",
      "source": "baseColumns <- c('reporter','partner','trade_flow','trade_value_usd')\nukTrading[!(ukTrading$partner_iso=='WLD'),baseColumns] %>% {\n    .[!is.na(.$classification),]\n} %>% cast(id.vars=c('reporter','partner'))",
      "execution_count": null,
      "outputs": []
    }
  ],
  "metadata": {
    "kernelspec": {
      "name": "r",
      "display_name": "R",
      "language": "R"
    },
    "language_info": {
      "mimetype": "text/x-r-source",
      "name": "R",
      "pygments_lexer": "r",
      "version": "3.4.1",
      "file_extension": ".r",
      "codemirror_mode": "r"
    }
  },
  "nbformat": 4,
  "nbformat_minor": 2
}
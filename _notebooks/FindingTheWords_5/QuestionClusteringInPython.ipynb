{
 "cells": [
  {
   "cell_type": "markdown",
   "metadata": {},
   "source": [
    "# Question Clustering in Python"
   ]
  },
  {
   "cell_type": "code",
   "execution_count": 2,
   "metadata": {},
   "outputs": [
    {
     "name": "stderr",
     "output_type": "stream",
     "text": [
      "[nltk_data] Downloading package punkt to\n",
      "[nltk_data]     C:\\Users\\Mille\\AppData\\Roaming\\nltk_data...\n",
      "[nltk_data]   Package punkt is already up-to-date!\n"
     ]
    }
   ],
   "source": [
    "from download import download_squad, collect_squad_data, download_fasttext, download_infersent, build_infersent_model\n",
    "import numpy as np"
   ]
  },
  {
   "cell_type": "code",
   "execution_count": 3,
   "metadata": {},
   "outputs": [],
   "source": [
    "# download_squad()\n",
    "# download_fasttext()\n",
    "# download_infersent()"
   ]
  },
  {
   "cell_type": "code",
   "execution_count": 4,
   "metadata": {},
   "outputs": [],
   "source": [
    "squadJson = collect_squad_data()"
   ]
  },
  {
   "cell_type": "code",
   "execution_count": 5,
   "metadata": {},
   "outputs": [
    {
     "name": "stdout",
     "output_type": "stream",
     "text": [
      "\n",
      "Title: University_of_Notre_Dame\n",
      "\n",
      "\tContext: Architecturally, the school has a Catholic character. Atop the Main Building's gold dome is a golden statue of the Virgin Mary. Immediately in front of the Main Building and facing it, is a copper statue of Christ with arms upraised with the legend \"Venite Ad Me Omnes\". Next to the Main Building is the Basilica of the Sacred Heart. Immediately behind the basilica is the Grotto, a Marian place of prayer and reflection. It is a replica of the grotto at Lourdes, France where the Virgin Mary reputedly appeared to Saint Bernadette Soubirous in 1858. At the end of the main drive (and in a direct line that connects through 3 statues and the Gold Dome), is a simple, modern stone statue of Mary.\n",
      "\n",
      "\tQuestion: To whom did the Virgin Mary allegedly appear in 1858 in Lourdes France?\n",
      "\n",
      "\tAnswer: [{'answer_start': 515, 'text': 'Saint Bernadette Soubirous'}]\n",
      "\n",
      "\tQuestion: What is in front of the Notre Dame Main Building?\n",
      "\n",
      "\tAnswer: [{'answer_start': 188, 'text': 'a copper statue of Christ'}]\n",
      "\n",
      "\tContext: As at most other universities, Notre Dame's students run a number of news media outlets. The nine student-run outlets include three newspapers, both a radio and television station, and several magazines and journals. Begun as a one-page journal in September 1876, the Scholastic magazine is issued twice monthly and claims to be the oldest continuous collegiate publication in the United States. The other magazine, The Juggler, is released twice a year and focuses on student literature and artwork. The Dome yearbook is published annually. The newspapers have varying publication interests, with The Observer published daily and mainly reporting university and other news, and staffed by students from both Notre Dame and Saint Mary's College. Unlike Scholastic and The Dome, The Observer is an independent publication and does not have a faculty advisor or any editorial oversight from the University. In 1987, when some students believed that The Observer began to show a conservative bias, a liberal newspaper, Common Sense was published. Likewise, in 2003, when other students believed that the paper showed a liberal bias, the conservative paper Irish Rover went into production. Neither paper is published as often as The Observer; however, all three are distributed to all students. Finally, in Spring 2008 an undergraduate journal for political science research, Beyond Politics, made its debut.\n",
      "\n",
      "\tQuestion: When did the Scholastic Magazine of Notre dame begin publishing?\n",
      "\n",
      "\tAnswer: [{'answer_start': 248, 'text': 'September 1876'}]\n",
      "\n",
      "\tQuestion: How often is Notre Dame's the Juggler published?\n",
      "\n",
      "\tAnswer: [{'answer_start': 441, 'text': 'twice'}]\n",
      "\n",
      "\n",
      "Title: Beyoncé\n",
      "\n",
      "\tContext: Beyoncé Giselle Knowles-Carter (/biːˈjɒnseɪ/ bee-YON-say) (born September 4, 1981) is an American singer, songwriter, record producer and actress. Born and raised in Houston, Texas, she performed in various singing and dancing competitions as a child, and rose to fame in the late 1990s as lead singer of R&B girl-group Destiny's Child. Managed by her father, Mathew Knowles, the group became one of the world's best-selling girl groups of all time. Their hiatus saw the release of Beyoncé's debut album, Dangerously in Love (2003), which established her as a solo artist worldwide, earned five Grammy Awards and featured the Billboard Hot 100 number-one singles \"Crazy in Love\" and \"Baby Boy\".\n",
      "\n",
      "\tQuestion: When did Beyonce start becoming popular?\n",
      "\n",
      "\tAnswer: [{'answer_start': 269, 'text': 'in the late 1990s'}]\n",
      "\n",
      "\tQuestion: What areas did Beyonce compete in when she was growing up?\n",
      "\n",
      "\tAnswer: [{'answer_start': 207, 'text': 'singing and dancing'}]\n",
      "\n",
      "\tContext: Following the disbandment of Destiny's Child in June 2005, she released her second solo album, B'Day (2006), which contained hits \"Déjà Vu\", \"Irreplaceable\", and \"Beautiful Liar\". Beyoncé also ventured into acting, with a Golden Globe-nominated performance in Dreamgirls (2006), and starring roles in The Pink Panther (2006) and Obsessed (2009). Her marriage to rapper Jay Z and portrayal of Etta James in Cadillac Records (2008) influenced her third album, I Am... Sasha Fierce (2008), which saw the birth of her alter-ego Sasha Fierce and earned a record-setting six Grammy Awards in 2010, including Song of the Year for \"Single Ladies (Put a Ring on It)\". Beyoncé took a hiatus from music in 2010 and took over management of her career; her fourth album 4 (2011) was subsequently mellower in tone, exploring 1970s funk, 1980s pop, and 1990s soul. Her critically acclaimed fifth studio album, Beyoncé (2013), was distinguished from previous releases by its experimental production and exploration of darker themes.\n",
      "\n",
      "\tQuestion: After her second solo album, what other entertainment venture did Beyonce explore?\n",
      "\n",
      "\tAnswer: [{'answer_start': 207, 'text': 'acting'}]\n",
      "\n",
      "\tQuestion: Which artist did Beyonce marry?\n",
      "\n",
      "\tAnswer: [{'answer_start': 369, 'text': 'Jay Z'}]\n",
      "\n"
     ]
    }
   ],
   "source": [
    "for subject in squadJson['data'][:2]:\n",
    "    print(\"\\nTitle: {0}\\n\".format(subject['title']))\n",
    "    for paragraph in subject['paragraphs'][:2]:\n",
    "        print(\"\\tContext: {0}\\n\".format(paragraph['context']))\n",
    "        for qa in paragraph['qas'][:2]:\n",
    "            print(\"\\tQuestion: {0}\\n\".format(qa['question']))\n",
    "            print(\"\\tAnswer: {0}\\n\".format(qa['answers']))"
   ]
  },
  {
   "cell_type": "markdown",
   "metadata": {},
   "source": [
    "## Question Corpus"
   ]
  },
  {
   "cell_type": "code",
   "execution_count": 6,
   "metadata": {},
   "outputs": [],
   "source": [
    "questions = [{'question':qa['question'],'paragraph':p,'subject':subject['title']}\n",
    "                 for subject in squadJson['data']\n",
    "                 for p,paragraph in enumerate(subject['paragraphs'])\n",
    "                 for qa in paragraph['qas']] "
   ]
  },
  {
   "cell_type": "code",
   "execution_count": 7,
   "metadata": {},
   "outputs": [
    {
     "data": {
      "text/plain": [
       "87599"
      ]
     },
     "execution_count": 7,
     "metadata": {},
     "output_type": "execute_result"
    }
   ],
   "source": [
    "len(questions)"
   ]
  },
  {
   "cell_type": "code",
   "execution_count": 8,
   "metadata": {},
   "outputs": [
    {
     "data": {
      "text/plain": [
       "[{'question': 'To whom did the Virgin Mary allegedly appear in 1858 in Lourdes France?',\n",
       "  'paragraph': 0,\n",
       "  'subject': 'University_of_Notre_Dame'},\n",
       " {'question': 'What is in front of the Notre Dame Main Building?',\n",
       "  'paragraph': 0,\n",
       "  'subject': 'University_of_Notre_Dame'},\n",
       " {'question': 'The Basilica of the Sacred heart at Notre Dame is beside to which structure?',\n",
       "  'paragraph': 0,\n",
       "  'subject': 'University_of_Notre_Dame'},\n",
       " {'question': 'What is the Grotto at Notre Dame?',\n",
       "  'paragraph': 0,\n",
       "  'subject': 'University_of_Notre_Dame'},\n",
       " {'question': 'What sits on top of the Main Building at Notre Dame?',\n",
       "  'paragraph': 0,\n",
       "  'subject': 'University_of_Notre_Dame'},\n",
       " {'question': 'When did the Scholastic Magazine of Notre dame begin publishing?',\n",
       "  'paragraph': 1,\n",
       "  'subject': 'University_of_Notre_Dame'},\n",
       " {'question': \"How often is Notre Dame's the Juggler published?\",\n",
       "  'paragraph': 1,\n",
       "  'subject': 'University_of_Notre_Dame'},\n",
       " {'question': 'What is the daily student paper at Notre Dame called?',\n",
       "  'paragraph': 1,\n",
       "  'subject': 'University_of_Notre_Dame'},\n",
       " {'question': 'How many student news papers are found at Notre Dame?',\n",
       "  'paragraph': 1,\n",
       "  'subject': 'University_of_Notre_Dame'},\n",
       " {'question': 'In what year did the student paper Common Sense begin publication at Notre Dame?',\n",
       "  'paragraph': 1,\n",
       "  'subject': 'University_of_Notre_Dame'}]"
      ]
     },
     "execution_count": 8,
     "metadata": {},
     "output_type": "execute_result"
    }
   ],
   "source": [
    "questions[:10]"
   ]
  },
  {
   "cell_type": "markdown",
   "metadata": {},
   "source": [
    "## Question Encoding"
   ]
  },
  {
   "cell_type": "code",
   "execution_count": 9,
   "metadata": {},
   "outputs": [
    {
     "name": "stdout",
     "output_type": "stream",
     "text": [
      "Vocab size : 100000.0\n"
     ]
    }
   ],
   "source": [
    "model=build_infersent_model()"
   ]
  },
  {
   "cell_type": "code",
   "execution_count": 10,
   "metadata": {},
   "outputs": [
    {
     "name": "stdout",
     "output_type": "stream",
     "text": [
      "Nb words kept : 933196/1056541 (88.3%)\n"
     ]
    },
    {
     "name": "stderr",
     "output_type": "stream",
     "text": [
      "C:\\Users\\Mille\\Documents\\GitHub\\millerdw.github.io\\_notebooks\\FindingTheWords_5\\models.py:207: VisibleDeprecationWarning: Creating an ndarray from ragged nested sequences (which is a list-or-tuple of lists-or-tuples-or ndarrays with different lengths or shapes) is deprecated. If you meant to do this, you must specify 'dtype=object' when creating the ndarray\n",
      "  sentences = np.array(sentences)[idx_sort]\n"
     ]
    },
    {
     "name": "stdout",
     "output_type": "stream",
     "text": [
      "Speed : 1648.4 sentences/s (gpu mode, bsize=128)\n",
      "nb sentences encoded : 87599\n"
     ]
    }
   ],
   "source": [
    "embeddings = model.encode([q['question'] for q in questions], \n",
    "                          bsize=128, tokenize=False, verbose=True)\n",
    "print('nb sentences encoded : {0}'.format(len(embeddings)))"
   ]
  },
  {
   "cell_type": "code",
   "execution_count": 11,
   "metadata": {},
   "outputs": [
    {
     "data": {
      "text/plain": [
       "(87599, 4096)"
      ]
     },
     "execution_count": 11,
     "metadata": {},
     "output_type": "execute_result"
    }
   ],
   "source": [
    "embeddings.shape"
   ]
  },
  {
   "cell_type": "code",
   "execution_count": 12,
   "metadata": {},
   "outputs": [],
   "source": [
    "for i in range(len(questions)):\n",
    "    questions[i]['encoding']=embeddings[i]"
   ]
  },
  {
   "cell_type": "code",
   "execution_count": 13,
   "metadata": {},
   "outputs": [],
   "source": [
    "titles = list(set([q['subject'] for q in questions]))"
   ]
  },
  {
   "cell_type": "markdown",
   "metadata": {},
   "source": [
    "### k-Means"
   ]
  },
  {
   "cell_type": "code",
   "execution_count": 14,
   "metadata": {},
   "outputs": [],
   "source": [
    "import sklearn\n",
    "from sklearn.model_selection import train_test_split\n",
    "# from sklearn.linear_model import LinearRegression, Ridge, Lasso, ElasticNet\n",
    "# from sklearn.neighbors import KNeighborsRegressor, NearestNeighbors\n",
    "from sklearn.preprocessing import RobustScaler\n",
    "# from sklearn.tree import DecisionTreeRegressor\n",
    "from sklearn.cluster import KMeans, DBSCAN, Birch, OPTICS\n",
    "from sklearn.metrics import homogeneity_score, completeness_score, v_measure_score, adjusted_rand_score, adjusted_mutual_info_score, silhouette_score"
   ]
  },
  {
   "cell_type": "code",
   "execution_count": 15,
   "metadata": {},
   "outputs": [],
   "source": [
    "import numpy as np"
   ]
  },
  {
   "cell_type": "markdown",
   "metadata": {},
   "source": [
    "### High Level Topic Clustering"
   ]
  },
  {
   "cell_type": "code",
   "execution_count": 16,
   "metadata": {},
   "outputs": [],
   "source": [
    "subdataset=[q for q in questions if q['subject'] in titles[:10]]"
   ]
  },
  {
   "cell_type": "code",
   "execution_count": 17,
   "metadata": {},
   "outputs": [],
   "source": [
    "X_train = np.stack([q['encoding'] for q in subdataset])"
   ]
  },
  {
   "cell_type": "code",
   "execution_count": 18,
   "metadata": {},
   "outputs": [
    {
     "data": {
      "text/plain": [
       "2033"
      ]
     },
     "execution_count": 18,
     "metadata": {},
     "output_type": "execute_result"
    }
   ],
   "source": [
    "len(X_train)"
   ]
  },
  {
   "cell_type": "code",
   "execution_count": 19,
   "metadata": {},
   "outputs": [],
   "source": [
    "kmeans = KMeans(n_clusters=80, random_state=0).fit(X_train)"
   ]
  },
  {
   "cell_type": "code",
   "execution_count": 20,
   "metadata": {},
   "outputs": [
    {
     "name": "stdout",
     "output_type": "stream",
     "text": [
      "Silhouette Coefficient: 0.034\n"
     ]
    }
   ],
   "source": [
    "print(\"Silhouette Coefficient: %0.3f\" % silhouette_score(X_train, kmeans.labels_))"
   ]
  },
  {
   "cell_type": "code",
   "execution_count": 21,
   "metadata": {},
   "outputs": [],
   "source": [
    "for i in range(len(subdataset)):\n",
    "    subdataset[i]['label']=kmeans.labels_[i]"
   ]
  },
  {
   "cell_type": "code",
   "execution_count": 22,
   "metadata": {},
   "outputs": [],
   "source": [
    "labels=list(set(kmeans.labels_))"
   ]
  },
  {
   "cell_type": "code",
   "execution_count": 23,
   "metadata": {},
   "outputs": [
    {
     "name": "stdout",
     "output_type": "stream",
     "text": [
      "Cluster 0:\n",
      "\tWhich year was used for estimates in the 2011 report?\n",
      "\tWhich year was used for estimates in the 2015 report?\n",
      "\tWhich year was used for estimates in the 2014 report?\n",
      "\tWhat is the main reason that countries were excluded from the 2014 report?\n",
      "\tWhich East Asian dictatorship was excluded from the 2014 report?\n",
      "\tWhich year was used for estimates in the 2013 report?\n",
      "\tWhich year was used for estimates in the 2011 report?\n",
      "\tWhat is the main reason that countries were excluded from the 2011 report?\n",
      "\tWhich East Asian dictatorship was excluded from the 2011 report?\n",
      "\tWhich year was used for estimates in the 2010 report?\n",
      "Cluster 1:\n",
      "\tGodel couldn't have come to his conclusion without what book?\n",
      "\tWhat obscures the importance of relations according to Whitehead?\n",
      "\tWhat makes up the sum of relations to an entity?\n",
      "\tHow long did it actually take to complete Principia Mathematica? \n",
      "\tHow many modes does perception occur in according to Whitehead?\n",
      "\tWhat does the term \"prehension\" signify regarding an entities perceptions and relations?\n",
      "\tHow do the senses affect causal efficacy?\n",
      "\tWhat can be said about the accuracy of presentational immediacy?\n",
      "\tWhat does symbolic reference link appearance with?\n",
      "\tWhat does having sense perceptions conclude about a person?\n",
      "Cluster 2:\n",
      "\tWhat year did Portugal invade the recently liberated territory?\n",
      "\tWhat was the official name of Libya between 1969 and 1977?\n",
      "\tIn what year did Gaddafi found the Jamahiriya?\n",
      "\tWhat countries occupied Libya after World War II?\n",
      "\tWhat happened to Libya right after World War II?\n",
      "\tWhat country occupied Libya during World War II?\n",
      "\tAlong with the British, who occupied Libya at the end of the Second World War?\n",
      "\tIn addition to gaining an education, describe how Gaddafi managed to attend school 20 miles from his family.\n",
      "\tIn what month and year did Gaddafi protest against Syria leaving the United Arab Republic?\n",
      "\tIn what year did the CIA begin to expect a military coup in Libya?\n",
      "Cluster 3:\n",
      "\tIn what areas of the US does Comcast operate?\n",
      "\tWhere is Comcast company headquarters?\n",
      "\tComcast owns what movie studio?\n",
      "\tWhat company did Comcast propose a merger with?\n",
      "\tWhat is Roberts power on the Comcast board?\n",
      "\tWhat newspaper named Comcast it's top place to work?\n",
      "\tWhat caused a 2012 spike in Comcast profits?\n",
      "\tWhen did Ralph Roberts get into the cable TV business?\n",
      "\tWhat sports network was Comcast a founding investor of?\n",
      "\tWhen did Comcast acquire the cable assets of AT&T Broadband?\n",
      "Cluster 4:\n",
      "\tWhat was Whitehead's wish upon his death for his family?\n",
      "\tWhat ranking has Cuba been given since the situation with the missing data was addressed?\n",
      "\tWho was forced to surrender to troops formed by forces of the Banda Oriental? \n",
      "\tWhich group had an inferior status under Islamic rule?\n",
      "\tWhat was one method used to entirely eliminate Jewish populations?\n",
      "\tComcast's customer service was rated worse than what government organization?\n",
      "\tOppidan residences were generally cared after by women known as what?\n",
      "\tIf a boy elects to live in an Oppidan house instead of the College house, what are they called?\n",
      "\tWhat term was given to juniors who acted as servants to older students?\n",
      "\tWhat words were yelled by Librarians that required first year students to come?\n",
      "Cluster 5:\n",
      "\tHow many volumes is the biography of Whitehead?\n",
      "\tHow many volumes was Principia Mathematica?\n",
      "\tHow many pages was Principia Mathematica?\n",
      "\tHow many goals of living is there?\n",
      "\tWhat three reasons were mentioned for countries being excluded?\n",
      "\tWhich countries experienced a decrease in HDI?\n",
      "\tHow many years did it take for Project DIANE to grow?\n",
      "\tHow many seats does the Estadio Centenario have? \n",
      "\tApproximately how many degrees indicate double the sensitivity? \n",
      "\tHow many regions does the Hurter-Driffield curve have?\n",
      "Cluster 6:\n",
      "\tWhen was Gaddafi born, and when did he die?\n",
      "\tWhen did Gaddafi rule as the \"Brotherly Leader\"?\n",
      "\tWhat political ideology did Gaddafi create?\n",
      "\tHow did Gaddafi change the legal system?\n",
      "\tHow did Gaddafi change the legal system?\n",
      "\tHow did Gaddafi lose power?\n",
      "\tHow did Gaddafi lose power?\n",
      "\tHow did Gaddafi die?\n",
      "\tWhat culture did Gaddafi experience as a child?\n",
      "\tWhen was Gaddafi born?\n",
      "Cluster 7:\n",
      "\tWhat consists of 25 pigmented squares touching a plate below a phosphorescent tablet under the light of a burning Magnesium ribbon?\n",
      "\tWhen were the plans to update USB 3.0 to 10 Gbit/s revealed?\n",
      "\tWhat kind of cables does the fully featured USB Type-C contain?\n",
      "\tHow many USB ports may a host controller provide?\n",
      "\tWhen does a USB 2.0 hub operate in high speed mode?\n",
      "\tWhy is the ability to boot write-locked SD cards with a USB adapter advantageous for?\n",
      "\tSince when can most computers boot from USB mass storage devices?\n",
      "\tWhat do external portable USB hard drive disks offer?\n",
      "\tWhy has MTP become the primary storage access protocol of the Android operating system?\n",
      "\tWhat do older computers have to have in order for USB mice and keyboards to be used?\n",
      "Cluster 8:\n",
      "\tWhat did Whitehead believe regarding the variety of subjects in education?\n",
      "\tWhitehead believed education should be the opposite of what?\n",
      "\tWhat did Whitehead feel was necessary regarding basic assumptions in metaphysics?\n",
      "\tWhat did Whitehead regard as essential to good science and good philosophy?\n",
      "\tWhat Cartesian concept did Whitehead believe to be erroneous?\n",
      "\tWhat theory did Whitehead prefer to the Cartesian concept?\n",
      "\tWhitehead rejected the Cartesian idea in favor of what?\n",
      "\tWhitehead believed instead of matter existing independently of each other, it did what?\n",
      "\tWhitehead believed that reality should be regarded as what?\n",
      "\tWhat basic concepts did Whitehead believe were questionable?\n",
      "Cluster 9:\n",
      "\tHow does he describe what makes something real?\n",
      "\tWhat type of system did he develop?\n",
      "\tWhat language does the term \"prehensio\" come from?\n",
      "\tWhat does the word \"Prehensio\" translate into?\n",
      "\tWhat entities does the term prehension apply to?\n",
      "\tWhat entity publishes the HDI?\n",
      "\tWhat does the IHDI specifically take into account?\n",
      "\tOn what plane does the MC operate?\n",
      "\tWhen did the Hipodromo de Maronas start operating?\n",
      "\tWhat kind of company does ANCAP run?\n"
     ]
    }
   ],
   "source": [
    "for label in labels[:10]:\n",
    "    print(\"Cluster {0}:\".format(label))\n",
    "    qs=[q for q in subdataset if q['label']==label][:10]\n",
    "    for q in qs:\n",
    "        print(\"\\t{0}\".format(q['question']))\n",
    "    "
   ]
  },
  {
   "cell_type": "markdown",
   "metadata": {},
   "source": [
    "### Low Level"
   ]
  },
  {
   "cell_type": "code",
   "execution_count": 24,
   "metadata": {},
   "outputs": [
    {
     "data": {
      "text/plain": [
       "317"
      ]
     },
     "execution_count": 24,
     "metadata": {},
     "output_type": "execute_result"
    }
   ],
   "source": [
    "subdataset=[q for q in questions if q['subject']==titles[1]]\n",
    "X_train = np.stack([q['encoding'] for q in subdataset])\n",
    "len(X_train)"
   ]
  },
  {
   "cell_type": "code",
   "execution_count": 25,
   "metadata": {},
   "outputs": [],
   "source": [
    "kmeans = KMeans(n_clusters=80, random_state=0).fit(X_train)"
   ]
  },
  {
   "cell_type": "code",
   "execution_count": 26,
   "metadata": {},
   "outputs": [
    {
     "name": "stdout",
     "output_type": "stream",
     "text": [
      "Silhouette Coefficient: 0.054\n"
     ]
    }
   ],
   "source": [
    "print(\"Silhouette Coefficient: %0.3f\" % silhouette_score(X_train, kmeans.labels_))"
   ]
  },
  {
   "cell_type": "code",
   "execution_count": 27,
   "metadata": {},
   "outputs": [],
   "source": [
    "for i in range(len(subdataset)):\n",
    "    subdataset[i]['label']=kmeans.labels_[i]"
   ]
  },
  {
   "cell_type": "code",
   "execution_count": 28,
   "metadata": {},
   "outputs": [],
   "source": [
    "labels=list(set(kmeans.labels_))"
   ]
  },
  {
   "cell_type": "code",
   "execution_count": 29,
   "metadata": {},
   "outputs": [
    {
     "name": "stdout",
     "output_type": "stream",
     "text": [
      "Cluster 0:\n",
      "\tWhat did Whitehead believe regarding the variety of subjects in education?\n",
      "\tWhat did Whitehead feel was necessary regarding basic assumptions in metaphysics?\n",
      "\tWhat did Whitehead regard as essential to good science and good philosophy?\n",
      "\tWhat did Whitehead believe regarding factors that limit people's understanding of his concepts?\n",
      "\tWhat did Whitehead publish numerous articles about?\n",
      "\tWhat lectures did Whitehead present in 1927-28?\n",
      "Cluster 1:\n",
      "\tWhat was Whitehead's opinion of metaphysical investigations?\n",
      "\tWhat do philosophers do, in Whitehead's view?\n",
      "\tWhat was Whitehead's opinion on privacy?\n",
      "\tWhat was G.B. Matthew's opinion of \"A Treatise on Algebra\"?\n",
      "\tWhat was Charles Birch's profession besides theologian?\n",
      "Cluster 2:\n",
      "\tWhat is the term for the experience dominating primitive organisms that have a sense for fate?\n",
      "Cluster 3:\n",
      "\tIn Whitehead's view, identities do not define people, but what?\n",
      "\tMost entities do not have what?\n",
      "Cluster 4:\n",
      "\tWhy was Gödels finding ironic?\n",
      "\tWhat important neopragmatist was Harthorne's student?\n",
      "\tWhat was Whitehead's father's profession?\n",
      "\tWho was Whitehead's mother?\n",
      "\tWhat was Whitehead's father's profession?\n",
      "\tWhat was Whitehead's mother's name?\n",
      "\tWhat was Whitehead's wife's name?\n",
      "\tHow has \"Process and Reality\" been described? \n",
      "Cluster 5:\n",
      "\tGodel couldn't have come to his conclusion without what book?\n",
      "Cluster 6:\n",
      "\tWhat did Lie algebras and hyperbolic quaternions demonstrate a need for?\n",
      "\tLie algebras and hypobolic quanternions drew attention to the need for what?\n",
      "Cluster 7:\n",
      "\tWhat idea states that reality is fundamentally constructed of bits of matter?\n",
      "\tHow many modes does perception occur in according to Whitehead?\n",
      "\tHow do the senses affect causal efficacy?\n",
      "\tWhat can be said about the accuracy of presentational immediacy?\n",
      "\tWhat does symbolic reference link appearance with?\n",
      "\tWhat does having sense perceptions conclude about a person?\n",
      "\tWhat was Whitehead's response to questions about why complex life evolved?\n",
      "Cluster 8:\n",
      "\tBesides logic and epistemology, what else did Principia Mathematica connect?\n",
      "Cluster 9:\n",
      "\tHow did Whitehead eventually become regarded in the field of metaphysics?\n",
      "\tWhat theory did Whitehead prefer to the Cartesian concept?\n",
      "\tHow did Whitehead identify his system of metaphysics?\n",
      "\tHow did Whitehead define the \"fallacy of misplaced concreteness\"?\n",
      "\tHow did Whitehead classify what is usually seen as an individual person?\n",
      "\tHow did Whitehead refer to the combination of a person's separate experiences?\n",
      "\tInstead of being a single person, what does Whitehead view a person as?\n",
      "\tHow does Whitehead describe the process of a typical person noticing a chair?\n",
      "\tHow does Whitehead say a dog may interpret the presence of a chair?\n"
     ]
    }
   ],
   "source": [
    "for label in labels[:10]:\n",
    "    print(\"Cluster {0}:\".format(label))\n",
    "    qs=[q for q in subdataset if q['label']==label][:10]\n",
    "    for q in qs:\n",
    "        print(\"\\t{0}\".format(q['question']))\n",
    "    "
   ]
  },
  {
   "cell_type": "markdown",
   "metadata": {},
   "source": [
    "## Hierarchical Clustering"
   ]
  },
  {
   "cell_type": "code",
   "execution_count": 30,
   "metadata": {},
   "outputs": [],
   "source": [
    "from sklearn.cluster import AgglomerativeClustering"
   ]
  },
  {
   "cell_type": "code",
   "execution_count": 31,
   "metadata": {},
   "outputs": [],
   "source": [
    "from matplotlib import pyplot as plt\n",
    "from scipy.cluster.hierarchy import dendrogram\n"
   ]
  },
  {
   "cell_type": "code",
   "execution_count": 32,
   "metadata": {},
   "outputs": [],
   "source": [
    "subdataset=[q for q in questions if q['subject'] in titles[:10]]\n",
    "X_train = np.stack([q['encoding'] for q in subdataset])"
   ]
  },
  {
   "cell_type": "code",
   "execution_count": 33,
   "metadata": {},
   "outputs": [],
   "source": [
    "model = AgglomerativeClustering(distance_threshold=0, n_clusters=None)\n",
    "model = model.fit(X_train)"
   ]
  },
  {
   "cell_type": "code",
   "execution_count": 34,
   "metadata": {},
   "outputs": [],
   "source": [
    "def plot_dendrogram(model, **kwargs):\n",
    "    # create the counts of samples under each node\n",
    "    counts = np.zeros(model.children_.shape[0])\n",
    "    n_samples = len(model.labels_)\n",
    "    for i, merge in enumerate(model.children_):\n",
    "        current_count = 0\n",
    "        for child_idx in merge:\n",
    "            if child_idx < n_samples:\n",
    "                current_count += 1  # leaf node\n",
    "            else:\n",
    "                current_count += counts[child_idx - n_samples]\n",
    "        counts[i] = current_count\n",
    "        \n",
    "    linkage_matrix = np.column_stack([model.children_, \n",
    "                                      model.distances_,\n",
    "                                      counts]).astype(float)\n",
    "\n",
    "    # Plot the corresponding dendrogram\n",
    "    dendrogram(linkage_matrix, **kwargs)"
   ]
  },
  {
   "cell_type": "code",
   "execution_count": 35,
   "metadata": {},
   "outputs": [
    {
     "name": "stdout",
     "output_type": "stream",
     "text": [
      "4063\n"
     ]
    },
    {
     "data": {
      "text/plain": [
       "(4062, 4063)"
      ]
     },
     "execution_count": 35,
     "metadata": {},
     "output_type": "execute_result"
    }
   ],
   "source": [
    "len(model.labels_)\n",
    "\n",
    "# A node i greater than or equal to n_samples is a non-leaf node and has children children_[i - n_samples]\n",
    "\n",
    "# Or,  at the i-th iteration, children[i][0] and children[i][1] are merged to form node n_samples + i\n",
    "\n",
    "# def get_children(root_id):\n",
    "#     if root_id>=n_samples: # non-leaf node\n",
    "        \n",
    "#     else: #leaf node\n",
    "#     children_ids=\n",
    "\n",
    "tree_dict={i:(None if i<len(model.children_) else (model.children_[i-len(model.children_),0],\n",
    "                                                   model.children_[i-len(model.children_),1])) \n",
    "           for i in range(2*len(model.children_))}\n",
    "\n",
    "# tree_dict={i+len(model.children_):(None if i<len(model.children_) else (model.children_[i-len(model.children_),0],\n",
    "#                                                    model.children_[i-len(model.children_),1])) \n",
    "#            for i in range(len(model.children_))}\n",
    "\n",
    "rootindex=model.children_.max()\n",
    "print(rootindex)\n",
    "tree_dict[rootindex]\n",
    "\n",
    "\n"
   ]
  },
  {
   "cell_type": "code",
   "execution_count": 36,
   "metadata": {},
   "outputs": [],
   "source": [
    "from IPython.core.debugger import set_trace"
   ]
  },
  {
   "cell_type": "code",
   "execution_count": 2,
   "metadata": {},
   "outputs": [],
   "source": [
    "def get_children(tree, depth, parent=None, current_depth=0):\n",
    "    if parent is None:\n",
    "        parent = max(tree.keys())\n",
    "\n",
    "    if tree[parent] is None:\n",
    "        return [parent]\n",
    "    else:\n",
    "        children_a=get_children(tree,depth,parent=tree[parent][0],current_depth=current_depth+1)\n",
    "        children_b=get_children(tree,depth,parent=tree[parent][1],current_depth=current_depth+1)\n",
    "        if current_depth==depth:\n",
    "            set_trace\n",
    "            return [(tree[parent][0],children_a)]+[(tree[parent][1],children_b)]\n",
    "        else:\n",
    "            \n",
    "            return children_a+children_b"
   ]
  },
  {
   "cell_type": "code",
   "execution_count": 3,
   "metadata": {},
   "outputs": [
    {
     "ename": "NameError",
     "evalue": "name 'tree_dict' is not defined",
     "output_type": "error",
     "traceback": [
      "\u001b[1;31m---------------------------------------------------------------------------\u001b[0m",
      "\u001b[1;31mNameError\u001b[0m                                 Traceback (most recent call last)",
      "\u001b[1;32m<ipython-input-3-050fc4c6ccdb>\u001b[0m in \u001b[0;36m<module>\u001b[1;34m\u001b[0m\n\u001b[1;32m----> 1\u001b[1;33m \u001b[0mchildren\u001b[0m \u001b[1;33m=\u001b[0m \u001b[0mget_children\u001b[0m\u001b[1;33m(\u001b[0m\u001b[0mtree_dict\u001b[0m\u001b[1;33m,\u001b[0m \u001b[0mdepth\u001b[0m\u001b[1;33m=\u001b[0m\u001b[1;36m5\u001b[0m\u001b[1;33m)\u001b[0m\u001b[1;33m\u001b[0m\u001b[1;33m\u001b[0m\u001b[0m\n\u001b[0m",
      "\u001b[1;31mNameError\u001b[0m: name 'tree_dict' is not defined"
     ]
    }
   ],
   "source": [
    "children = get_children(tree_dict, depth=5)"
   ]
  },
  {
   "cell_type": "code",
   "execution_count": 69,
   "metadata": {},
   "outputs": [
    {
     "data": {
      "text/plain": [
       "3745"
      ]
     },
     "execution_count": 69,
     "metadata": {},
     "output_type": "execute_result"
    }
   ],
   "source": [
    "max(tree_dict.keys())"
   ]
  },
  {
   "cell_type": "code",
   "execution_count": 66,
   "metadata": {},
   "outputs": [
    {
     "data": {
      "image/png": "[encoded data removed]",
      "text/plain": [
       "<Figure size 864x576 with 1 Axes>"
      ]
     },
     "metadata": {
      "needs_background": "light"
     },
     "output_type": "display_data"
    }
   ],
   "source": [
    "level=4\n",
    "plt.figure(figsize=(12,max(2*level,4)))\n",
    "plt.title('Hierarchical Clustering Dendrogram')\n",
    "# plot the top three levels of the dendrogram\n",
    "plot_dendrogram(model, \n",
    "                truncate_mode='level', \n",
    "#                 labels=model.labels_,\n",
    "                p=level,\n",
    "                orientation='left')\n",
    "plt.xlabel(\"Number of points in node (or index of point if no parenthesis).\")\n",
    "plt.show()"
   ]
  },
  {
   "cell_type": "code",
   "execution_count": null,
   "metadata": {},
   "outputs": [],
   "source": []
  }
 ],
 "metadata": {
  "kernelspec": {
   "display_name": "Python 3",
   "language": "python",
   "name": "python3"
  },
  "language_info": {
   "codemirror_mode": {
    "name": "ipython",
    "version": 3
   },
   "file_extension": ".py",
   "mimetype": "text/x-python",
   "name": "python",
   "nbconvert_exporter": "python",
   "pygments_lexer": "ipython3",
   "version": "3.8.5"
  }
 },
 "nbformat": 4,
 "nbformat_minor": 4
}

{
 "cells": [
  {
   "cell_type": "code",
   "execution_count": null,
   "metadata": {},
   "outputs": [],
   "source": [
    "#'SI.POV.GINI'          GINI coefficient\n",
    "#'SI.DST.FRST.20'       Income Share of bottom quintile\n",
    "#'SI.DST.05TH.20'       Income Share of top quintile\n",
    "\n",
    "#'NE.TRD.GNFS.ZS'       Trade % GDP\n",
    "#'NE.IMP.GNFS.ZS'       Imports of goods and services (% of GDP)\n",
    "#'NE.EXP.GNFS.ZS'       Exports of goods and services (% of GDP)\n",
    "\n",
    "#'BN.CAB.XOKA.GD.ZS'    Current account balance (% of GDP)\n",
    "\n",
    "#'BG.GSR.NFSV.GD.ZS'    Trade in services (% of GDP)\n",
    "#'TG.VAL.TOTL.GD.ZS'    Merchandise trade (% of GDP)\n",
    "\n",
    "#'BX.GSR.MRCH.ZS'       Merchandise Exports (BOP): Percentage Of GDP (%)\n",
    "#'BM.GSR.MRCH.ZS'       Merchandise Imports (BOP): Percentage Of GDP (%)\n",
    "\n",
    "#'TM.VAL.MANF.ZS.UN'    Manufactures imports (% of merchandise imports)\n",
    "#'TX.VAL.MANF.ZS.UN'    Manufactures exports (% of merchandise exports)\n",
    "\n",
    "#'TX.VAL.TECH.MF.ZS'    High-technology exports (% of manufactured exports)\n",
    "\n",
    "#'TM.VAL.MRCH.OR.ZS'    Merchandise imports from developing economies outside region (% of total merchandise imports)\n",
    "#'TX.VAL.MRCH.HI.ZS'    Merchandise exports to high-income economies (% of total merchandise exports)\n",
    "\n",
    "#'BM.GSR.MRCH.CD'       Goods imports (BoP, current US$)\n",
    "#'BM.GSR.NFSV.CD'       Service imports (BoP, current US$)\n",
    "#'BN.GSR.MRCH.CD'       Net trade in goods (BoP, current US$)\n",
    "#'BN.GSR.GNFS.CD'       Net trade in goods and services (BoP, current US$)"
   ]
  }
 ],
 "metadata": {
  "kernelspec": {
   "display_name": "R",
   "language": "R",
   "name": "ir"
  },
  "language_info": {
   "codemirror_mode": "r",
   "file_extension": ".r",
   "mimetype": "text/x-r-source",
   "name": "R",
   "pygments_lexer": "r",
   "version": "3.3.2"
  }
 },
 "nbformat": 4,
 "nbformat_minor": 2
}
